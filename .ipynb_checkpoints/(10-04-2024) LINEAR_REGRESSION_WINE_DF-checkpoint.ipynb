{
 "cells": [
  {
   "cell_type": "markdown",
   "id": "7229d9b8",
   "metadata": {},
   "source": [
    "# 10-04-2024"
   ]
  },
  {
   "cell_type": "markdown",
   "id": "b956dc22",
   "metadata": {},
   "source": [
    "- doing some modification just fro github purpose only"
   ]
  },
  {
   "cell_type": "markdown",
   "id": "25beb1df",
   "metadata": {},
   "source": [
    "# STEP-1 \n",
    "- IMPORT OUR PACKAGES"
   ]
  },
  {
   "cell_type": "code",
   "execution_count": 2,
   "id": "0bc38f9f",
   "metadata": {},
   "outputs": [],
   "source": [
    "import numpy as nmy\n",
    "import pandas as pd\n",
    "import matplotlib.pyplot as plt\n",
    "import seaborn as sns\n",
    "import warnings\n",
    "warnings.filterwarnings('ignore')"
   ]
  },
  {
   "cell_type": "markdown",
   "id": "5a6ccb59",
   "metadata": {},
   "source": [
    "# STEP-2"
   ]
  },
  {
   "cell_type": "markdown",
   "id": "9b68f740",
   "metadata": {},
   "source": [
    "- READ THE DATA"
   ]
  },
  {
   "cell_type": "code",
   "execution_count": 17,
   "id": "92ad8edb",
   "metadata": {},
   "outputs": [
    {
     "data": {
      "text/html": [
       "<div>\n",
       "<style scoped>\n",
       "    .dataframe tbody tr th:only-of-type {\n",
       "        vertical-align: middle;\n",
       "    }\n",
       "\n",
       "    .dataframe tbody tr th {\n",
       "        vertical-align: top;\n",
       "    }\n",
       "\n",
       "    .dataframe thead th {\n",
       "        text-align: right;\n",
       "    }\n",
       "</style>\n",
       "<table border=\"1\" class=\"dataframe\">\n",
       "  <thead>\n",
       "    <tr style=\"text-align: right;\">\n",
       "      <th></th>\n",
       "      <th>fixed acidity</th>\n",
       "      <th>volatile acidity</th>\n",
       "      <th>citric acid</th>\n",
       "      <th>residual sugar</th>\n",
       "      <th>chlorides</th>\n",
       "      <th>free sulfur dioxide</th>\n",
       "      <th>total sulfur dioxide</th>\n",
       "      <th>density</th>\n",
       "      <th>pH</th>\n",
       "      <th>sulphates</th>\n",
       "      <th>alcohol</th>\n",
       "      <th>quality</th>\n",
       "    </tr>\n",
       "  </thead>\n",
       "  <tbody>\n",
       "    <tr>\n",
       "      <th>0</th>\n",
       "      <td>NaN</td>\n",
       "      <td>NaN</td>\n",
       "      <td>NaN</td>\n",
       "      <td>NaN</td>\n",
       "      <td>NaN</td>\n",
       "      <td>NaN</td>\n",
       "      <td>NaN</td>\n",
       "      <td>NaN</td>\n",
       "      <td>NaN</td>\n",
       "      <td>NaN</td>\n",
       "      <td>NaN</td>\n",
       "      <td>NaN</td>\n",
       "    </tr>\n",
       "    <tr>\n",
       "      <th>1</th>\n",
       "      <td>7.4</td>\n",
       "      <td>0.700</td>\n",
       "      <td>0.00</td>\n",
       "      <td>1.9</td>\n",
       "      <td>0.076</td>\n",
       "      <td>11.0</td>\n",
       "      <td>34.0</td>\n",
       "      <td>0.99780</td>\n",
       "      <td>3.51</td>\n",
       "      <td>0.56</td>\n",
       "      <td>9.4</td>\n",
       "      <td>5.0</td>\n",
       "    </tr>\n",
       "    <tr>\n",
       "      <th>2</th>\n",
       "      <td>NaN</td>\n",
       "      <td>NaN</td>\n",
       "      <td>NaN</td>\n",
       "      <td>NaN</td>\n",
       "      <td>NaN</td>\n",
       "      <td>NaN</td>\n",
       "      <td>NaN</td>\n",
       "      <td>NaN</td>\n",
       "      <td>NaN</td>\n",
       "      <td>NaN</td>\n",
       "      <td>NaN</td>\n",
       "      <td>NaN</td>\n",
       "    </tr>\n",
       "    <tr>\n",
       "      <th>3</th>\n",
       "      <td>7.8</td>\n",
       "      <td>0.880</td>\n",
       "      <td>0.00</td>\n",
       "      <td>2.6</td>\n",
       "      <td>0.098</td>\n",
       "      <td>25.0</td>\n",
       "      <td>67.0</td>\n",
       "      <td>0.99680</td>\n",
       "      <td>3.20</td>\n",
       "      <td>0.68</td>\n",
       "      <td>9.8</td>\n",
       "      <td>5.0</td>\n",
       "    </tr>\n",
       "    <tr>\n",
       "      <th>4</th>\n",
       "      <td>NaN</td>\n",
       "      <td>NaN</td>\n",
       "      <td>NaN</td>\n",
       "      <td>NaN</td>\n",
       "      <td>NaN</td>\n",
       "      <td>NaN</td>\n",
       "      <td>NaN</td>\n",
       "      <td>NaN</td>\n",
       "      <td>NaN</td>\n",
       "      <td>NaN</td>\n",
       "      <td>NaN</td>\n",
       "      <td>NaN</td>\n",
       "    </tr>\n",
       "    <tr>\n",
       "      <th>...</th>\n",
       "      <td>...</td>\n",
       "      <td>...</td>\n",
       "      <td>...</td>\n",
       "      <td>...</td>\n",
       "      <td>...</td>\n",
       "      <td>...</td>\n",
       "      <td>...</td>\n",
       "      <td>...</td>\n",
       "      <td>...</td>\n",
       "      <td>...</td>\n",
       "      <td>...</td>\n",
       "      <td>...</td>\n",
       "    </tr>\n",
       "    <tr>\n",
       "      <th>3193</th>\n",
       "      <td>6.3</td>\n",
       "      <td>0.510</td>\n",
       "      <td>0.13</td>\n",
       "      <td>2.3</td>\n",
       "      <td>0.076</td>\n",
       "      <td>29.0</td>\n",
       "      <td>40.0</td>\n",
       "      <td>0.99574</td>\n",
       "      <td>3.42</td>\n",
       "      <td>0.75</td>\n",
       "      <td>11.0</td>\n",
       "      <td>6.0</td>\n",
       "    </tr>\n",
       "    <tr>\n",
       "      <th>3194</th>\n",
       "      <td>NaN</td>\n",
       "      <td>NaN</td>\n",
       "      <td>NaN</td>\n",
       "      <td>NaN</td>\n",
       "      <td>NaN</td>\n",
       "      <td>NaN</td>\n",
       "      <td>NaN</td>\n",
       "      <td>NaN</td>\n",
       "      <td>NaN</td>\n",
       "      <td>NaN</td>\n",
       "      <td>NaN</td>\n",
       "      <td>NaN</td>\n",
       "    </tr>\n",
       "    <tr>\n",
       "      <th>3195</th>\n",
       "      <td>5.9</td>\n",
       "      <td>0.645</td>\n",
       "      <td>0.12</td>\n",
       "      <td>2.0</td>\n",
       "      <td>0.075</td>\n",
       "      <td>32.0</td>\n",
       "      <td>44.0</td>\n",
       "      <td>0.99547</td>\n",
       "      <td>3.57</td>\n",
       "      <td>0.71</td>\n",
       "      <td>10.2</td>\n",
       "      <td>5.0</td>\n",
       "    </tr>\n",
       "    <tr>\n",
       "      <th>3196</th>\n",
       "      <td>NaN</td>\n",
       "      <td>NaN</td>\n",
       "      <td>NaN</td>\n",
       "      <td>NaN</td>\n",
       "      <td>NaN</td>\n",
       "      <td>NaN</td>\n",
       "      <td>NaN</td>\n",
       "      <td>NaN</td>\n",
       "      <td>NaN</td>\n",
       "      <td>NaN</td>\n",
       "      <td>NaN</td>\n",
       "      <td>NaN</td>\n",
       "    </tr>\n",
       "    <tr>\n",
       "      <th>3197</th>\n",
       "      <td>6.0</td>\n",
       "      <td>0.310</td>\n",
       "      <td>0.47</td>\n",
       "      <td>3.6</td>\n",
       "      <td>0.067</td>\n",
       "      <td>18.0</td>\n",
       "      <td>42.0</td>\n",
       "      <td>0.99549</td>\n",
       "      <td>3.39</td>\n",
       "      <td>0.66</td>\n",
       "      <td>11.0</td>\n",
       "      <td>6.0</td>\n",
       "    </tr>\n",
       "  </tbody>\n",
       "</table>\n",
       "<p>3198 rows × 12 columns</p>\n",
       "</div>"
      ],
      "text/plain": [
       "      fixed acidity  volatile acidity  citric acid  residual sugar  chlorides  \\\n",
       "0               NaN               NaN          NaN             NaN        NaN   \n",
       "1               7.4             0.700         0.00             1.9      0.076   \n",
       "2               NaN               NaN          NaN             NaN        NaN   \n",
       "3               7.8             0.880         0.00             2.6      0.098   \n",
       "4               NaN               NaN          NaN             NaN        NaN   \n",
       "...             ...               ...          ...             ...        ...   \n",
       "3193            6.3             0.510         0.13             2.3      0.076   \n",
       "3194            NaN               NaN          NaN             NaN        NaN   \n",
       "3195            5.9             0.645         0.12             2.0      0.075   \n",
       "3196            NaN               NaN          NaN             NaN        NaN   \n",
       "3197            6.0             0.310         0.47             3.6      0.067   \n",
       "\n",
       "      free sulfur dioxide  total sulfur dioxide  density    pH  sulphates  \\\n",
       "0                     NaN                   NaN      NaN   NaN        NaN   \n",
       "1                    11.0                  34.0  0.99780  3.51       0.56   \n",
       "2                     NaN                   NaN      NaN   NaN        NaN   \n",
       "3                    25.0                  67.0  0.99680  3.20       0.68   \n",
       "4                     NaN                   NaN      NaN   NaN        NaN   \n",
       "...                   ...                   ...      ...   ...        ...   \n",
       "3193                 29.0                  40.0  0.99574  3.42       0.75   \n",
       "3194                  NaN                   NaN      NaN   NaN        NaN   \n",
       "3195                 32.0                  44.0  0.99547  3.57       0.71   \n",
       "3196                  NaN                   NaN      NaN   NaN        NaN   \n",
       "3197                 18.0                  42.0  0.99549  3.39       0.66   \n",
       "\n",
       "      alcohol  quality  \n",
       "0         NaN      NaN  \n",
       "1         9.4      5.0  \n",
       "2         NaN      NaN  \n",
       "3         9.8      5.0  \n",
       "4         NaN      NaN  \n",
       "...       ...      ...  \n",
       "3193     11.0      6.0  \n",
       "3194      NaN      NaN  \n",
       "3195     10.2      5.0  \n",
       "3196      NaN      NaN  \n",
       "3197     11.0      6.0  \n",
       "\n",
       "[3198 rows x 12 columns]"
      ]
     },
     "execution_count": 17,
     "metadata": {},
     "output_type": "execute_result"
    }
   ],
   "source": [
    "path=r\"C:\\Users\\kragh\\OneDrive\\DATA SCIENCE NIT\\Data Files\\winequality_red - winequality_red.csv\"\n",
    "wine_df=pd.read_csv(path)\n",
    "wine_df"
   ]
  },
  {
   "cell_type": "markdown",
   "id": "f42deb28",
   "metadata": {},
   "source": [
    "- IF WE GET NAN VALUES LIKE THIS NOW USE THIS METHOD AS"
   ]
  },
  {
   "cell_type": "code",
   "execution_count": 4,
   "id": "18a797a6",
   "metadata": {},
   "outputs": [
    {
     "data": {
      "text/html": [
       "<div>\n",
       "<style scoped>\n",
       "    .dataframe tbody tr th:only-of-type {\n",
       "        vertical-align: middle;\n",
       "    }\n",
       "\n",
       "    .dataframe tbody tr th {\n",
       "        vertical-align: top;\n",
       "    }\n",
       "\n",
       "    .dataframe thead th {\n",
       "        text-align: right;\n",
       "    }\n",
       "</style>\n",
       "<table border=\"1\" class=\"dataframe\">\n",
       "  <thead>\n",
       "    <tr style=\"text-align: right;\">\n",
       "      <th></th>\n",
       "      <th>fixed acidity</th>\n",
       "      <th>volatile acidity</th>\n",
       "      <th>citric acid</th>\n",
       "      <th>residual sugar</th>\n",
       "      <th>chlorides</th>\n",
       "      <th>free sulfur dioxide</th>\n",
       "      <th>total sulfur dioxide</th>\n",
       "      <th>density</th>\n",
       "      <th>pH</th>\n",
       "      <th>sulphates</th>\n",
       "      <th>alcohol</th>\n",
       "      <th>quality</th>\n",
       "    </tr>\n",
       "  </thead>\n",
       "  <tbody>\n",
       "    <tr>\n",
       "      <th>0</th>\n",
       "      <td>7.4</td>\n",
       "      <td>0.70</td>\n",
       "      <td>0.00</td>\n",
       "      <td>1.9</td>\n",
       "      <td>0.076</td>\n",
       "      <td>11.0</td>\n",
       "      <td>34.0</td>\n",
       "      <td>0.9978</td>\n",
       "      <td>3.51</td>\n",
       "      <td>0.56</td>\n",
       "      <td>9.4</td>\n",
       "      <td>5.0</td>\n",
       "    </tr>\n",
       "    <tr>\n",
       "      <th>1</th>\n",
       "      <td>7.8</td>\n",
       "      <td>0.88</td>\n",
       "      <td>0.00</td>\n",
       "      <td>2.6</td>\n",
       "      <td>0.098</td>\n",
       "      <td>25.0</td>\n",
       "      <td>67.0</td>\n",
       "      <td>0.9968</td>\n",
       "      <td>3.20</td>\n",
       "      <td>0.68</td>\n",
       "      <td>9.8</td>\n",
       "      <td>5.0</td>\n",
       "    </tr>\n",
       "    <tr>\n",
       "      <th>2</th>\n",
       "      <td>7.8</td>\n",
       "      <td>0.76</td>\n",
       "      <td>0.04</td>\n",
       "      <td>2.3</td>\n",
       "      <td>0.092</td>\n",
       "      <td>15.0</td>\n",
       "      <td>54.0</td>\n",
       "      <td>0.9970</td>\n",
       "      <td>3.26</td>\n",
       "      <td>0.65</td>\n",
       "      <td>9.8</td>\n",
       "      <td>5.0</td>\n",
       "    </tr>\n",
       "  </tbody>\n",
       "</table>\n",
       "</div>"
      ],
      "text/plain": [
       "   fixed acidity  volatile acidity  citric acid  residual sugar  chlorides  \\\n",
       "0            7.4              0.70         0.00             1.9      0.076   \n",
       "1            7.8              0.88         0.00             2.6      0.098   \n",
       "2            7.8              0.76         0.04             2.3      0.092   \n",
       "\n",
       "   free sulfur dioxide  total sulfur dioxide  density    pH  sulphates  \\\n",
       "0                 11.0                  34.0   0.9978  3.51       0.56   \n",
       "1                 25.0                  67.0   0.9968  3.20       0.68   \n",
       "2                 15.0                  54.0   0.9970  3.26       0.65   \n",
       "\n",
       "   alcohol  quality  \n",
       "0      9.4      5.0  \n",
       "1      9.8      5.0  \n",
       "2      9.8      5.0  "
      ]
     },
     "execution_count": 4,
     "metadata": {},
     "output_type": "execute_result"
    }
   ],
   "source": [
    "wine_df.dropna(inplace=True)\n",
    "wine_df.reset_index(drop=True,inplace=True)\n",
    "wine_df.head(3)"
   ]
  },
  {
   "cell_type": "markdown",
   "id": "92141408",
   "metadata": {},
   "source": [
    "- NOW PERFORM End To End EDA & CONVERT CATEGORICAL DATA TO NUMERICAL \n",
    "- BECAUSE ML TAKES ONLY NUMERICAL"
   ]
  },
  {
   "cell_type": "code",
   "execution_count": 5,
   "id": "7aea3521",
   "metadata": {},
   "outputs": [
    {
     "data": {
      "text/plain": [
       "fixed acidity           0\n",
       "volatile acidity        0\n",
       "citric acid             0\n",
       "residual sugar          0\n",
       "chlorides               0\n",
       "free sulfur dioxide     0\n",
       "total sulfur dioxide    0\n",
       "density                 0\n",
       "pH                      0\n",
       "sulphates               0\n",
       "alcohol                 0\n",
       "quality                 0\n",
       "dtype: int64"
      ]
     },
     "execution_count": 5,
     "metadata": {},
     "output_type": "execute_result"
    }
   ],
   "source": [
    "# CHECK THE BASIC THINGS\n",
    "wine_df.isnull().sum()"
   ]
  },
  {
   "cell_type": "code",
   "execution_count": 6,
   "id": "308c9eb0",
   "metadata": {},
   "outputs": [
    {
     "data": {
      "text/plain": [
       "Index(['fixed acidity', 'volatile acidity', 'citric acid', 'residual sugar',\n",
       "       'chlorides', 'free sulfur dioxide', 'total sulfur dioxide', 'density',\n",
       "       'pH', 'sulphates', 'alcohol', 'quality'],\n",
       "      dtype='object')"
      ]
     },
     "execution_count": 6,
     "metadata": {},
     "output_type": "execute_result"
    }
   ],
   "source": [
    "wine_df.columns"
   ]
  },
  {
   "cell_type": "code",
   "execution_count": 7,
   "id": "a67ef4b4",
   "metadata": {},
   "outputs": [
    {
     "data": {
      "text/plain": [
       "fixed acidity           float64\n",
       "volatile acidity        float64\n",
       "citric acid             float64\n",
       "residual sugar          float64\n",
       "chlorides               float64\n",
       "free sulfur dioxide     float64\n",
       "total sulfur dioxide    float64\n",
       "density                 float64\n",
       "pH                      float64\n",
       "sulphates               float64\n",
       "alcohol                 float64\n",
       "quality                 float64\n",
       "dtype: object"
      ]
     },
     "execution_count": 7,
     "metadata": {},
     "output_type": "execute_result"
    }
   ],
   "source": [
    "wine_df.dtypes"
   ]
  },
  {
   "cell_type": "code",
   "execution_count": 8,
   "id": "7d219cbc",
   "metadata": {},
   "outputs": [
    {
     "data": {
      "text/plain": [
       "(1599, 12)"
      ]
     },
     "execution_count": 8,
     "metadata": {},
     "output_type": "execute_result"
    }
   ],
   "source": [
    "wine_df.shape"
   ]
  },
  {
   "cell_type": "markdown",
   "id": "2d98f7a0",
   "metadata": {},
   "source": [
    "# STEP-3"
   ]
  },
  {
   "cell_type": "markdown",
   "id": "20298ddd",
   "metadata": {},
   "source": [
    "- NOW DIVIDE THE DATA INTO INPUT DATA & OUTPUT DATA\n",
    "- X & Y\n",
    "- X_Train & Y_Train Data Which is used to Train the data\n",
    "- Also divide the Data to X_Test & Y_test Data\n",
    "- X_Train & Y_Train are used to Train the model\n",
    "- Now we will pass x_test data Model will give Y_per\n",
    "- this y_Per we will compare with Y_test"
   ]
  },
  {
   "cell_type": "code",
   "execution_count": 9,
   "id": "b7a30a3c",
   "metadata": {},
   "outputs": [],
   "source": [
    "# DIVIDE TO X AND Y\n",
    "# here x= all columns except Traget column\n",
    "# here y= target column"
   ]
  },
  {
   "cell_type": "code",
   "execution_count": 16,
   "id": "f264360d",
   "metadata": {},
   "outputs": [],
   "source": [
    "x=wine_df.drop('quality',axis=1)\n",
    "y=wine_df['quality']\n",
    "#OUR X AND Y is ready"
   ]
  },
  {
   "cell_type": "markdown",
   "id": "8174e180",
   "metadata": {},
   "source": [
    "# STEP-4"
   ]
  },
  {
   "cell_type": "markdown",
   "id": "037caa75",
   "metadata": {},
   "source": [
    "- NOW WE SHOULD DIVIDE THE DATA INTO TRAIN DATA & TEST DATA\n",
    "- THIS WE CAN ACHIVE BY USING SKLEARN PACKAGE\n",
    "- THAT IS\n",
    "    - FROM SKLEARN.MODEL_SELECTION IMPORT train_test_split\n",
    "    - IT TAKES SOME ARGUMENTS \n",
    "    - 1) ARRAYS= OUR X,Y\n",
    "    - 2) TEST_SIZE=how much test data we need = example .30 = 30%\n",
    "    - 3) BY DEFAULT ITS TAKES 75% TRAIN & 25% TEST\n",
    "    - 4) random_state = THEIR ARE MANY POSSIBILITY TO DRAW THE DATA SO PASS ANY NUMBER EX:=49,100,230 etc \n",
    "- ALSO WE SHOULD PASS VARABLES TO THE MATHOD==\n",
    "- 1)X_Train,X_Test,Y_train,X_Test=train_test_split((here give all the above parameters))"
   ]
  },
  {
   "cell_type": "code",
   "execution_count": 10,
   "id": "98e75da7",
   "metadata": {},
   "outputs": [],
   "source": [
    "from sklearn.model_selection import train_test_split\n",
    "x_train,x_test,y_train,y_test=train_test_split(x,y,test_size=0.30,random_state=7)"
   ]
  },
  {
   "cell_type": "markdown",
   "id": "ac3ba080",
   "metadata": {},
   "source": [
    "- now test_data should be 30%\n",
    "- how to check ==\n",
    "- %*total_observations/100\n",
    "- 30*1599/100"
   ]
  },
  {
   "cell_type": "code",
   "execution_count": 11,
   "id": "9c17662c",
   "metadata": {},
   "outputs": [
    {
     "data": {
      "text/plain": [
       "479.7"
      ]
     },
     "execution_count": 11,
     "metadata": {},
     "output_type": "execute_result"
    }
   ],
   "source": [
    "30*len(wine_df)/100"
   ]
  },
  {
   "cell_type": "code",
   "execution_count": 12,
   "id": "74bd9d44",
   "metadata": {},
   "outputs": [
    {
     "data": {
      "text/plain": [
       "1119.3"
      ]
     },
     "execution_count": 12,
     "metadata": {},
     "output_type": "execute_result"
    }
   ],
   "source": [
    "70*len(wine_df)/100"
   ]
  },
  {
   "cell_type": "markdown",
   "id": "86c8ed41",
   "metadata": {},
   "source": [
    "- WE SHOULD GET 480 OBSERVATIONS\n",
    "- LETS CHECK"
   ]
  },
  {
   "cell_type": "markdown",
   "id": "30f2117f",
   "metadata": {},
   "source": [
    "# CHECK LEN AND SHAPE"
   ]
  },
  {
   "cell_type": "code",
   "execution_count": 13,
   "id": "d8c69c16",
   "metadata": {},
   "outputs": [
    {
     "name": "stdout",
     "output_type": "stream",
     "text": [
      "1119\n",
      "480\n",
      "1119\n",
      "480\n"
     ]
    }
   ],
   "source": [
    "print(len(x_train))\n",
    "print(len(x_test))\n",
    "print(len(y_train))\n",
    "print(len(y_test))"
   ]
  },
  {
   "cell_type": "markdown",
   "id": "dcb3b2e0",
   "metadata": {},
   "source": [
    "**SHAPE**"
   ]
  },
  {
   "cell_type": "code",
   "execution_count": 14,
   "id": "ba1a805f",
   "metadata": {},
   "outputs": [
    {
     "name": "stdout",
     "output_type": "stream",
     "text": [
      "(1119, 11)\n",
      "(480, 11)\n",
      "(1119,)\n",
      "(480,)\n"
     ]
    }
   ],
   "source": [
    "print(x_train.shape)\n",
    "print(x_test.shape)\n",
    "print(y_train.shape)\n",
    "print(y_test.shape)"
   ]
  },
  {
   "cell_type": "markdown",
   "id": "56cc605b",
   "metadata": {},
   "source": [
    "- LETS CHECK BOTHS X-TRAIN,Y-TRAIN\n",
    "- ALSO X_TEST,Y_TEST INDEX ARE MATCHING OR NOT"
   ]
  },
  {
   "cell_type": "code",
   "execution_count": 15,
   "id": "03ad0f6e",
   "metadata": {},
   "outputs": [
    {
     "data": {
      "text/html": [
       "<div>\n",
       "<style scoped>\n",
       "    .dataframe tbody tr th:only-of-type {\n",
       "        vertical-align: middle;\n",
       "    }\n",
       "\n",
       "    .dataframe tbody tr th {\n",
       "        vertical-align: top;\n",
       "    }\n",
       "\n",
       "    .dataframe thead th {\n",
       "        text-align: right;\n",
       "    }\n",
       "</style>\n",
       "<table border=\"1\" class=\"dataframe\">\n",
       "  <thead>\n",
       "    <tr style=\"text-align: right;\">\n",
       "      <th></th>\n",
       "      <th>fixed acidity</th>\n",
       "      <th>volatile acidity</th>\n",
       "      <th>citric acid</th>\n",
       "      <th>residual sugar</th>\n",
       "      <th>chlorides</th>\n",
       "      <th>free sulfur dioxide</th>\n",
       "      <th>total sulfur dioxide</th>\n",
       "      <th>density</th>\n",
       "      <th>pH</th>\n",
       "      <th>sulphates</th>\n",
       "      <th>alcohol</th>\n",
       "    </tr>\n",
       "  </thead>\n",
       "  <tbody>\n",
       "    <tr>\n",
       "      <th>913</th>\n",
       "      <td>9.4</td>\n",
       "      <td>0.395</td>\n",
       "      <td>0.46</td>\n",
       "      <td>4.6</td>\n",
       "      <td>0.094</td>\n",
       "      <td>3.0</td>\n",
       "      <td>10.0</td>\n",
       "      <td>0.99639</td>\n",
       "      <td>3.27</td>\n",
       "      <td>0.64</td>\n",
       "      <td>12.2</td>\n",
       "    </tr>\n",
       "    <tr>\n",
       "      <th>562</th>\n",
       "      <td>9.0</td>\n",
       "      <td>0.540</td>\n",
       "      <td>0.49</td>\n",
       "      <td>2.9</td>\n",
       "      <td>0.094</td>\n",
       "      <td>41.0</td>\n",
       "      <td>110.0</td>\n",
       "      <td>0.99820</td>\n",
       "      <td>3.08</td>\n",
       "      <td>0.61</td>\n",
       "      <td>9.2</td>\n",
       "    </tr>\n",
       "  </tbody>\n",
       "</table>\n",
       "</div>"
      ],
      "text/plain": [
       "     fixed acidity  volatile acidity  citric acid  residual sugar  chlorides  \\\n",
       "913            9.4             0.395         0.46             4.6      0.094   \n",
       "562            9.0             0.540         0.49             2.9      0.094   \n",
       "\n",
       "     free sulfur dioxide  total sulfur dioxide  density    pH  sulphates  \\\n",
       "913                  3.0                  10.0  0.99639  3.27       0.64   \n",
       "562                 41.0                 110.0  0.99820  3.08       0.61   \n",
       "\n",
       "     alcohol  \n",
       "913     12.2  \n",
       "562      9.2  "
      ]
     },
     "execution_count": 15,
     "metadata": {},
     "output_type": "execute_result"
    }
   ],
   "source": [
    "x_train.head(2)"
   ]
  },
  {
   "cell_type": "code",
   "execution_count": 16,
   "id": "1935dc64",
   "metadata": {},
   "outputs": [
    {
     "data": {
      "text/plain": [
       "913    7.0\n",
       "562    5.0\n",
       "Name: quality, dtype: float64"
      ]
     },
     "execution_count": 16,
     "metadata": {},
     "output_type": "execute_result"
    }
   ],
   "source": [
    "y_train.head(2)"
   ]
  },
  {
   "cell_type": "code",
   "execution_count": 17,
   "id": "83f0ff49",
   "metadata": {},
   "outputs": [],
   "source": [
    "# now test data"
   ]
  },
  {
   "cell_type": "code",
   "execution_count": 18,
   "id": "122fa6d1",
   "metadata": {},
   "outputs": [
    {
     "data": {
      "text/html": [
       "<div>\n",
       "<style scoped>\n",
       "    .dataframe tbody tr th:only-of-type {\n",
       "        vertical-align: middle;\n",
       "    }\n",
       "\n",
       "    .dataframe tbody tr th {\n",
       "        vertical-align: top;\n",
       "    }\n",
       "\n",
       "    .dataframe thead th {\n",
       "        text-align: right;\n",
       "    }\n",
       "</style>\n",
       "<table border=\"1\" class=\"dataframe\">\n",
       "  <thead>\n",
       "    <tr style=\"text-align: right;\">\n",
       "      <th></th>\n",
       "      <th>fixed acidity</th>\n",
       "      <th>volatile acidity</th>\n",
       "      <th>citric acid</th>\n",
       "      <th>residual sugar</th>\n",
       "      <th>chlorides</th>\n",
       "      <th>free sulfur dioxide</th>\n",
       "      <th>total sulfur dioxide</th>\n",
       "      <th>density</th>\n",
       "      <th>pH</th>\n",
       "      <th>sulphates</th>\n",
       "      <th>alcohol</th>\n",
       "    </tr>\n",
       "  </thead>\n",
       "  <tbody>\n",
       "    <tr>\n",
       "      <th>1526</th>\n",
       "      <td>6.8</td>\n",
       "      <td>0.47</td>\n",
       "      <td>0.08</td>\n",
       "      <td>2.2</td>\n",
       "      <td>0.064</td>\n",
       "      <td>18.0</td>\n",
       "      <td>38.0</td>\n",
       "      <td>0.99553</td>\n",
       "      <td>3.30</td>\n",
       "      <td>0.65</td>\n",
       "      <td>9.6</td>\n",
       "    </tr>\n",
       "    <tr>\n",
       "      <th>674</th>\n",
       "      <td>10.8</td>\n",
       "      <td>0.40</td>\n",
       "      <td>0.41</td>\n",
       "      <td>2.2</td>\n",
       "      <td>0.084</td>\n",
       "      <td>7.0</td>\n",
       "      <td>17.0</td>\n",
       "      <td>0.99840</td>\n",
       "      <td>3.08</td>\n",
       "      <td>0.67</td>\n",
       "      <td>9.3</td>\n",
       "    </tr>\n",
       "  </tbody>\n",
       "</table>\n",
       "</div>"
      ],
      "text/plain": [
       "      fixed acidity  volatile acidity  citric acid  residual sugar  chlorides  \\\n",
       "1526            6.8              0.47         0.08             2.2      0.064   \n",
       "674            10.8              0.40         0.41             2.2      0.084   \n",
       "\n",
       "      free sulfur dioxide  total sulfur dioxide  density    pH  sulphates  \\\n",
       "1526                 18.0                  38.0  0.99553  3.30       0.65   \n",
       "674                   7.0                  17.0  0.99840  3.08       0.67   \n",
       "\n",
       "      alcohol  \n",
       "1526      9.6  \n",
       "674       9.3  "
      ]
     },
     "execution_count": 18,
     "metadata": {},
     "output_type": "execute_result"
    }
   ],
   "source": [
    "x_test.head(2)"
   ]
  },
  {
   "cell_type": "code",
   "execution_count": 19,
   "id": "13db3e00",
   "metadata": {},
   "outputs": [
    {
     "data": {
      "text/plain": [
       "1526    6.0\n",
       "674     6.0\n",
       "Name: quality, dtype: float64"
      ]
     },
     "execution_count": 19,
     "metadata": {},
     "output_type": "execute_result"
    }
   ],
   "source": [
    "y_test.head(2)"
   ]
  },
  {
   "cell_type": "markdown",
   "id": "bc679244",
   "metadata": {},
   "source": [
    "# STEP-5"
   ]
  },
  {
   "cell_type": "markdown",
   "id": "d01c3cc9",
   "metadata": {},
   "source": [
    "- MODEL DEVELOPMENT\n",
    "- TRAIN THE MODEL WITH OUR X_TRAIN,Y_TRAIN"
   ]
  },
  {
   "cell_type": "markdown",
   "id": "95879d4b",
   "metadata": {},
   "source": [
    "- IMPORT THE PACKAGE\n",
    "- SAVE THE PACKAGE\n",
    "- APPLY FIT TRANSFORM"
   ]
  },
  {
   "cell_type": "markdown",
   "id": "c2525992",
   "metadata": {},
   "source": [
    "- MODEL_NAME=LINER_REGRESSION\n",
    "- FROM SKLEARN.LINEAR_MODEL IMPORT LINEAR REGRESSION\n",
    "- LR=LINEAR_REGRESSION()\n",
    "- LR.FIT(X_TRAIN,Y_TRAIN)"
   ]
  },
  {
   "cell_type": "code",
   "execution_count": 21,
   "id": "1be61d9e",
   "metadata": {},
   "outputs": [
    {
     "data": {
      "text/html": [
       "<style>#sk-container-id-2 {color: black;}#sk-container-id-2 pre{padding: 0;}#sk-container-id-2 div.sk-toggleable {background-color: white;}#sk-container-id-2 label.sk-toggleable__label {cursor: pointer;display: block;width: 100%;margin-bottom: 0;padding: 0.3em;box-sizing: border-box;text-align: center;}#sk-container-id-2 label.sk-toggleable__label-arrow:before {content: \"▸\";float: left;margin-right: 0.25em;color: #696969;}#sk-container-id-2 label.sk-toggleable__label-arrow:hover:before {color: black;}#sk-container-id-2 div.sk-estimator:hover label.sk-toggleable__label-arrow:before {color: black;}#sk-container-id-2 div.sk-toggleable__content {max-height: 0;max-width: 0;overflow: hidden;text-align: left;background-color: #f0f8ff;}#sk-container-id-2 div.sk-toggleable__content pre {margin: 0.2em;color: black;border-radius: 0.25em;background-color: #f0f8ff;}#sk-container-id-2 input.sk-toggleable__control:checked~div.sk-toggleable__content {max-height: 200px;max-width: 100%;overflow: auto;}#sk-container-id-2 input.sk-toggleable__control:checked~label.sk-toggleable__label-arrow:before {content: \"▾\";}#sk-container-id-2 div.sk-estimator input.sk-toggleable__control:checked~label.sk-toggleable__label {background-color: #d4ebff;}#sk-container-id-2 div.sk-label input.sk-toggleable__control:checked~label.sk-toggleable__label {background-color: #d4ebff;}#sk-container-id-2 input.sk-hidden--visually {border: 0;clip: rect(1px 1px 1px 1px);clip: rect(1px, 1px, 1px, 1px);height: 1px;margin: -1px;overflow: hidden;padding: 0;position: absolute;width: 1px;}#sk-container-id-2 div.sk-estimator {font-family: monospace;background-color: #f0f8ff;border: 1px dotted black;border-radius: 0.25em;box-sizing: border-box;margin-bottom: 0.5em;}#sk-container-id-2 div.sk-estimator:hover {background-color: #d4ebff;}#sk-container-id-2 div.sk-parallel-item::after {content: \"\";width: 100%;border-bottom: 1px solid gray;flex-grow: 1;}#sk-container-id-2 div.sk-label:hover label.sk-toggleable__label {background-color: #d4ebff;}#sk-container-id-2 div.sk-serial::before {content: \"\";position: absolute;border-left: 1px solid gray;box-sizing: border-box;top: 0;bottom: 0;left: 50%;z-index: 0;}#sk-container-id-2 div.sk-serial {display: flex;flex-direction: column;align-items: center;background-color: white;padding-right: 0.2em;padding-left: 0.2em;position: relative;}#sk-container-id-2 div.sk-item {position: relative;z-index: 1;}#sk-container-id-2 div.sk-parallel {display: flex;align-items: stretch;justify-content: center;background-color: white;position: relative;}#sk-container-id-2 div.sk-item::before, #sk-container-id-2 div.sk-parallel-item::before {content: \"\";position: absolute;border-left: 1px solid gray;box-sizing: border-box;top: 0;bottom: 0;left: 50%;z-index: -1;}#sk-container-id-2 div.sk-parallel-item {display: flex;flex-direction: column;z-index: 1;position: relative;background-color: white;}#sk-container-id-2 div.sk-parallel-item:first-child::after {align-self: flex-end;width: 50%;}#sk-container-id-2 div.sk-parallel-item:last-child::after {align-self: flex-start;width: 50%;}#sk-container-id-2 div.sk-parallel-item:only-child::after {width: 0;}#sk-container-id-2 div.sk-dashed-wrapped {border: 1px dashed gray;margin: 0 0.4em 0.5em 0.4em;box-sizing: border-box;padding-bottom: 0.4em;background-color: white;}#sk-container-id-2 div.sk-label label {font-family: monospace;font-weight: bold;display: inline-block;line-height: 1.2em;}#sk-container-id-2 div.sk-label-container {text-align: center;}#sk-container-id-2 div.sk-container {/* jupyter's `normalize.less` sets `[hidden] { display: none; }` but bootstrap.min.css set `[hidden] { display: none !important; }` so we also need the `!important` here to be able to override the default hidden behavior on the sphinx rendered scikit-learn.org. See: https://github.com/scikit-learn/scikit-learn/issues/21755 */display: inline-block !important;position: relative;}#sk-container-id-2 div.sk-text-repr-fallback {display: none;}</style><div id=\"sk-container-id-2\" class=\"sk-top-container\"><div class=\"sk-text-repr-fallback\"><pre>LinearRegression()</pre><b>In a Jupyter environment, please rerun this cell to show the HTML representation or trust the notebook. <br />On GitHub, the HTML representation is unable to render, please try loading this page with nbviewer.org.</b></div><div class=\"sk-container\" hidden><div class=\"sk-item\"><div class=\"sk-estimator sk-toggleable\"><input class=\"sk-toggleable__control sk-hidden--visually\" id=\"sk-estimator-id-2\" type=\"checkbox\" checked><label for=\"sk-estimator-id-2\" class=\"sk-toggleable__label sk-toggleable__label-arrow\">LinearRegression</label><div class=\"sk-toggleable__content\"><pre>LinearRegression()</pre></div></div></div></div></div>"
      ],
      "text/plain": [
       "LinearRegression()"
      ]
     },
     "execution_count": 21,
     "metadata": {},
     "output_type": "execute_result"
    }
   ],
   "source": [
    "from sklearn.linear_model import LinearRegression\n",
    "LR=LinearRegression()\n",
    "LR.fit(x_train,y_train)"
   ]
  },
  {
   "cell_type": "markdown",
   "id": "cb4154be",
   "metadata": {},
   "source": [
    "- OUR COEFFICIENTS== b1,b2------etc\n"
   ]
  },
  {
   "cell_type": "code",
   "execution_count": 22,
   "id": "3ff07232",
   "metadata": {},
   "outputs": [
    {
     "data": {
      "text/plain": [
       "array([ 4.80373395e-02, -1.19676516e+00, -3.85140022e-01,  1.91041449e-02,\n",
       "       -1.41392449e+00,  3.83178674e-03, -3.08112024e-03, -2.90731341e+01,\n",
       "       -4.93283094e-01,  7.59125789e-01,  2.92476803e-01])"
      ]
     },
     "execution_count": 22,
     "metadata": {},
     "output_type": "execute_result"
    }
   ],
   "source": [
    "LR.coef_"
   ]
  },
  {
   "cell_type": "markdown",
   "id": "a21a8ef0",
   "metadata": {},
   "source": [
    "- OUR INTERCEPT"
   ]
  },
  {
   "cell_type": "code",
   "execution_count": 79,
   "id": "8a3de675",
   "metadata": {},
   "outputs": [
    {
     "data": {
      "text/plain": [
       "33.202378665622966"
      ]
     },
     "execution_count": 79,
     "metadata": {},
     "output_type": "execute_result"
    }
   ],
   "source": [
    "LR.intercept_"
   ]
  },
  {
   "cell_type": "markdown",
   "id": "0a9f5164",
   "metadata": {},
   "source": [
    "- NOW OUR MODEL IS READY "
   ]
  },
  {
   "cell_type": "markdown",
   "id": "6306c791",
   "metadata": {},
   "source": [
    "# STEP-6"
   ]
  },
  {
   "cell_type": "markdown",
   "id": "424754a9",
   "metadata": {},
   "source": [
    "- MODEL IS READY AND WE NEED TO PASSOUR PREDICTIONS = X_TEST\n",
    "- MODEL WILL GIVE Y_PER"
   ]
  },
  {
   "cell_type": "code",
   "execution_count": 80,
   "id": "b874a2eb",
   "metadata": {},
   "outputs": [],
   "source": [
    "y_peridctions=LR.predict(x_test)"
   ]
  },
  {
   "cell_type": "code",
   "execution_count": 81,
   "id": "27748e84",
   "metadata": {},
   "outputs": [
    {
     "data": {
      "text/plain": [
       "array([5.56936696, 5.66499092, 5.87330358, 5.31713439, 5.96511391,\n",
       "       5.7005773 , 5.49033898, 6.3980456 , 5.23523248, 5.51411697,\n",
       "       6.07981547, 6.5895878 , 6.77741988, 5.27823619, 5.24225841,\n",
       "       4.90945144, 5.92154774, 5.13686887, 5.70992579, 5.70985787,\n",
       "       5.45199326, 5.10274741, 5.2368805 , 5.90401214, 5.40081464,\n",
       "       5.94292644, 5.33708425, 5.114852  , 6.08948698, 5.1028634 ,\n",
       "       5.80254086, 5.12916875, 5.51753116, 5.62812381, 5.15416935,\n",
       "       4.93588856, 6.5774648 , 5.14582683, 5.94411484, 5.5421482 ,\n",
       "       5.38067106, 6.29285632, 6.07896389, 5.73064829, 5.81964825,\n",
       "       5.6904659 , 5.68607482, 5.91340919, 6.023846  , 6.6444947 ,\n",
       "       6.1485997 , 5.33349483, 6.33770001, 6.67896944, 5.59043304,\n",
       "       5.90063549, 6.14154679, 5.63836414, 5.13652209, 6.93448727,\n",
       "       5.37102212, 6.20483587, 6.07983843, 5.20010841, 5.30000538,\n",
       "       5.29009486, 5.94050169, 5.80199749, 5.79894434, 5.96987008,\n",
       "       6.57558906, 5.84941937, 6.25420881, 6.06371753, 5.02467711,\n",
       "       6.26862689, 5.81713201, 5.79432564, 5.26393031, 5.95391271,\n",
       "       5.62920426, 6.06982331, 5.60927397, 5.12394436, 5.41576381,\n",
       "       6.11176595, 5.62540212, 4.73043558, 5.75083281, 5.15469113,\n",
       "       6.12043264, 5.14429624, 5.38143677, 5.30686657, 5.88018977,\n",
       "       6.01593059, 6.35401086, 5.02014607, 6.42108928, 5.97607821,\n",
       "       5.0068352 , 5.6516929 , 5.33260835, 5.14728932, 5.19568874,\n",
       "       5.59215275, 5.68342515, 5.63643642, 5.79159961, 5.24073877,\n",
       "       5.81474036, 5.2641094 , 5.83262924, 6.08106782, 5.14271676,\n",
       "       5.38951714, 5.22862461, 6.10049473, 5.16658634, 5.39975859,\n",
       "       5.1102641 , 5.16338695, 5.56895443, 6.30695024, 6.03338407,\n",
       "       5.38489345, 5.33348881, 6.37339279, 6.44589993, 5.6901834 ,\n",
       "       6.50754388, 5.09933303, 6.26440178, 5.17334259, 6.76001713,\n",
       "       6.13605878, 5.57197447, 5.20404836, 5.2205893 , 4.8194241 ,\n",
       "       4.75771391, 5.46030719, 5.58094873, 5.20929295, 5.23718811,\n",
       "       5.62722002, 5.72273352, 5.11496629, 5.46286126, 5.66744255,\n",
       "       4.8764717 , 5.4151811 , 5.27755332, 6.29852932, 5.34988171,\n",
       "       5.3852585 , 5.24225818, 5.42184821, 5.63799639, 5.75721701,\n",
       "       5.05147188, 5.86241262, 6.71413723, 6.17195774, 5.40521017,\n",
       "       4.97918085, 5.37004462, 5.41738319, 6.42737711, 5.39187689,\n",
       "       5.11374538, 5.60509649, 5.28135301, 5.97011166, 5.90412391,\n",
       "       5.80373291, 5.73668939, 5.21348625, 5.83200575, 5.44815359,\n",
       "       6.29531265, 5.7422442 , 6.06371753, 5.61991069, 5.55827631,\n",
       "       5.74409824, 6.06607342, 5.61736045, 5.45456919, 6.81721622,\n",
       "       5.46447838, 6.76717719, 5.34294776, 5.46447838, 5.16215029,\n",
       "       5.60765652, 4.90436548, 6.25738008, 6.47662237, 6.45689533,\n",
       "       5.28790546, 6.09278343, 5.54949583, 6.03242218, 6.14586632,\n",
       "       6.85006771, 6.34372964, 5.71257052, 6.47732015, 5.71733075,\n",
       "       5.88409774, 5.37342823, 5.78999369, 5.47855178, 6.02603234,\n",
       "       4.8194241 , 5.343109  , 5.96790591, 5.25032272, 5.72450894,\n",
       "       5.71520517, 5.65248689, 5.03363413, 5.96022099, 6.02977681,\n",
       "       6.44805599, 5.08100925, 6.29755102, 5.43675384, 5.8122054 ,\n",
       "       5.36806538, 5.35582767, 6.05227585, 5.81141965, 5.78782447,\n",
       "       5.14473671, 5.31551066, 6.60119083, 5.52731287, 5.56468565,\n",
       "       5.18892877, 5.14630338, 5.54250903, 5.16220598, 6.03121788,\n",
       "       5.33297258, 5.83923927, 5.15809526, 5.4437728 , 6.17904878,\n",
       "       5.77819377, 5.5677804 , 6.07798372, 6.31508913, 6.37818486,\n",
       "       5.98061332, 5.26822567, 6.27022731, 5.70800526, 5.5638883 ,\n",
       "       6.07877073, 4.55743753, 6.97637889, 6.35862046, 5.37865863,\n",
       "       5.39535581, 4.89829998, 5.50871125, 5.53285256, 5.70426194,\n",
       "       6.67864001, 5.51782231, 6.81492239, 5.82892721, 5.4486839 ,\n",
       "       5.06902515, 6.17815665, 5.0198867 , 6.15463273, 6.86180063,\n",
       "       6.81721622, 5.95495632, 5.00020707, 5.89548715, 6.44098428,\n",
       "       5.67575815, 6.51664968, 4.98768992, 6.47800506, 5.90808887,\n",
       "       4.97759877, 6.08789102, 5.57711721, 6.12052792, 4.25412118,\n",
       "       5.77436827, 5.53281418, 5.01626671, 5.32721902, 7.68030783,\n",
       "       4.65739941, 5.91923219, 6.25040109, 5.36606382, 5.40666973,\n",
       "       5.75077171, 4.7830345 , 5.78475004, 5.2092802 , 5.00084873,\n",
       "       5.53095978, 6.86180063, 5.77020526, 6.49820754, 5.70874402,\n",
       "       5.84336113, 6.4697272 , 5.2101232 , 5.10676053, 6.35401086,\n",
       "       6.05482883, 4.80632901, 5.23163897, 5.60377732, 6.11256344,\n",
       "       5.66744255, 5.4350336 , 6.01134777, 5.74346191, 6.26380926,\n",
       "       5.65991213, 6.14190161, 5.31998617, 5.76002243, 5.93781858,\n",
       "       5.68780269, 5.3350663 , 4.95006367, 4.91274726, 5.98951778,\n",
       "       4.9148222 , 5.93036388, 5.76582174, 5.77103516, 5.04074582,\n",
       "       5.66069347, 5.90203888, 5.24996409, 5.73668939, 5.77730663,\n",
       "       5.80234705, 5.97622673, 5.09838153, 5.81311896, 4.7171302 ,\n",
       "       5.78099461, 5.49555261, 5.40311557, 6.34829294, 6.2543105 ,\n",
       "       5.5638883 , 6.16118384, 5.09782636, 6.09416365, 6.53582016,\n",
       "       5.14913981, 4.6292172 , 5.65432854, 6.05107026, 5.88458469,\n",
       "       5.7422442 , 5.01950092, 5.04948463, 5.09566482, 5.62536862,\n",
       "       5.95622069, 5.69729851, 5.37687451, 6.33484019, 6.52140197,\n",
       "       5.38143677, 5.30846406, 5.34074695, 6.68127658, 5.11787209,\n",
       "       5.43116614, 6.4718179 , 5.23430281, 5.12186135, 6.08398174,\n",
       "       5.74332457, 5.36316045, 4.83408435, 5.30755066, 5.37865863,\n",
       "       5.3124669 , 6.314133  , 6.01999226, 6.0116298 , 4.80789384,\n",
       "       4.72482529, 5.16986793, 5.94078251, 5.71311551, 5.84270923,\n",
       "       5.66092198, 5.65502811, 5.686815  , 5.23828546, 5.29501777,\n",
       "       5.53993851, 5.27494684, 6.24893575, 5.10871917, 5.71946263,\n",
       "       6.1087268 , 5.05567013, 5.16338695, 5.37102212, 5.27467686,\n",
       "       5.84670527, 5.30500635, 6.00556477, 5.16220598, 4.90777685,\n",
       "       5.83200575, 5.3876207 , 6.4270765 , 4.66520682, 5.44237198,\n",
       "       4.98344245, 5.62725196, 5.97326195, 5.13207513, 5.89991996,\n",
       "       5.74481602, 6.48397554, 6.04268506, 5.73451387, 6.06583454,\n",
       "       5.80803142, 6.05501276, 5.82037968, 6.7881057 , 5.18775902,\n",
       "       5.00080722, 5.52979143, 5.45887287, 5.71655155, 6.56401445,\n",
       "       6.4009019 , 5.14271676, 5.99871798, 6.02603234, 5.45976965,\n",
       "       5.77351082, 5.64362094, 6.49514074, 6.29195875, 5.28103425,\n",
       "       6.45073841, 5.7744788 , 5.58318723, 5.44203947, 5.14271676,\n",
       "       6.30130457, 6.17296599, 5.59957557, 5.79216449, 5.8352666 ,\n",
       "       5.35037603, 4.96332509, 6.15354769, 5.04323691, 6.39718126,\n",
       "       5.22861538, 5.36789989, 6.52402426, 5.14553509, 6.02523603])"
      ]
     },
     "execution_count": 81,
     "metadata": {},
     "output_type": "execute_result"
    }
   ],
   "source": [
    "y_peridctions"
   ]
  },
  {
   "cell_type": "code",
   "execution_count": 82,
   "id": "c5ee45ac",
   "metadata": {},
   "outputs": [
    {
     "data": {
      "text/plain": [
       "((480,), (480,))"
      ]
     },
     "execution_count": 82,
     "metadata": {},
     "output_type": "execute_result"
    }
   ],
   "source": [
    "y_test.shape,y_peridctions.shape"
   ]
  },
  {
   "cell_type": "markdown",
   "id": "baa7612f",
   "metadata": {},
   "source": [
    "**NOTE: OUR MODEL IS TRAINED WITH 11 COLUMNS SO WE SHOLD PASS 11 VALUES TO GET THE Y_PER**"
   ]
  },
  {
   "cell_type": "code",
   "execution_count": 83,
   "id": "ded350d6",
   "metadata": {},
   "outputs": [
    {
     "data": {
      "text/html": [
       "<div>\n",
       "<style scoped>\n",
       "    .dataframe tbody tr th:only-of-type {\n",
       "        vertical-align: middle;\n",
       "    }\n",
       "\n",
       "    .dataframe tbody tr th {\n",
       "        vertical-align: top;\n",
       "    }\n",
       "\n",
       "    .dataframe thead th {\n",
       "        text-align: right;\n",
       "    }\n",
       "</style>\n",
       "<table border=\"1\" class=\"dataframe\">\n",
       "  <thead>\n",
       "    <tr style=\"text-align: right;\">\n",
       "      <th></th>\n",
       "      <th>fixed acidity</th>\n",
       "      <th>volatile acidity</th>\n",
       "      <th>citric acid</th>\n",
       "      <th>residual sugar</th>\n",
       "      <th>chlorides</th>\n",
       "      <th>free sulfur dioxide</th>\n",
       "      <th>total sulfur dioxide</th>\n",
       "      <th>density</th>\n",
       "      <th>pH</th>\n",
       "      <th>sulphates</th>\n",
       "      <th>alcohol</th>\n",
       "    </tr>\n",
       "  </thead>\n",
       "  <tbody>\n",
       "    <tr>\n",
       "      <th>1526</th>\n",
       "      <td>6.8</td>\n",
       "      <td>0.47</td>\n",
       "      <td>0.08</td>\n",
       "      <td>2.2</td>\n",
       "      <td>0.064</td>\n",
       "      <td>18.0</td>\n",
       "      <td>38.0</td>\n",
       "      <td>0.99553</td>\n",
       "      <td>3.30</td>\n",
       "      <td>0.65</td>\n",
       "      <td>9.6</td>\n",
       "    </tr>\n",
       "    <tr>\n",
       "      <th>674</th>\n",
       "      <td>10.8</td>\n",
       "      <td>0.40</td>\n",
       "      <td>0.41</td>\n",
       "      <td>2.2</td>\n",
       "      <td>0.084</td>\n",
       "      <td>7.0</td>\n",
       "      <td>17.0</td>\n",
       "      <td>0.99840</td>\n",
       "      <td>3.08</td>\n",
       "      <td>0.67</td>\n",
       "      <td>9.3</td>\n",
       "    </tr>\n",
       "  </tbody>\n",
       "</table>\n",
       "</div>"
      ],
      "text/plain": [
       "      fixed acidity  volatile acidity  citric acid  residual sugar  chlorides  \\\n",
       "1526            6.8              0.47         0.08             2.2      0.064   \n",
       "674            10.8              0.40         0.41             2.2      0.084   \n",
       "\n",
       "      free sulfur dioxide  total sulfur dioxide  density    pH  sulphates  \\\n",
       "1526                 18.0                  38.0  0.99553  3.30       0.65   \n",
       "674                   7.0                  17.0  0.99840  3.08       0.67   \n",
       "\n",
       "      alcohol  \n",
       "1526      9.6  \n",
       "674       9.3  "
      ]
     },
     "execution_count": 83,
     "metadata": {},
     "output_type": "execute_result"
    }
   ],
   "source": [
    "x_test.head(2)"
   ]
  },
  {
   "cell_type": "code",
   "execution_count": 84,
   "id": "fc661fb3",
   "metadata": {},
   "outputs": [
    {
     "data": {
      "text/plain": [
       "array([ 6.8    ,  0.47   ,  0.08   ,  2.2    ,  0.064  , 18.     ,\n",
       "       38.     ,  0.99553,  3.3    ,  0.65   ,  9.6    ])"
      ]
     },
     "execution_count": 84,
     "metadata": {},
     "output_type": "execute_result"
    }
   ],
   "source": [
    "x_test.iloc[0].values"
   ]
  },
  {
   "cell_type": "markdown",
   "id": "2f5c38c1",
   "metadata": {},
   "source": [
    "- BATCH PERIDECTIONS\n",
    "    - AFTER MODEL IS READY WE WILL PASS SOME DATA\n",
    "    - IN ABOVE EX: WE HAVE PASS 480 TEST DATA\n",
    "    - IN A BATCH IT IS CALLED AS BATCH PERIDCTIONS"
   ]
  },
  {
   "cell_type": "markdown",
   "id": "18520912",
   "metadata": {},
   "source": [
    "- REALTIME & END POINT PERIDCTIONS\n",
    "    - AFTER MODEL IS READY WE WILL PASS SINGLE OBSERVATIONS \n",
    "    - THUS MODEL WILL GIVE QUICK RESPONCE\n",
    "    - THIS IS CALLED AS REALTIME PERIDCTIONS\n",
    "- NOTE:NO OF VALUES WE ARE PASSING IN PERIDCT IS = NO OF COLUMNS"
   ]
  },
  {
   "cell_type": "code",
   "execution_count": 85,
   "id": "143e2d87",
   "metadata": {},
   "outputs": [],
   "source": [
    "Y_PER=LR.predict([x_test.iloc[0],x_test.iloc[1]])"
   ]
  },
  {
   "cell_type": "code",
   "execution_count": 86,
   "id": "6f726837",
   "metadata": {},
   "outputs": [
    {
     "data": {
      "text/plain": [
       "array([5.56936696, 5.66499092])"
      ]
     },
     "execution_count": 86,
     "metadata": {},
     "output_type": "execute_result"
    }
   ],
   "source": [
    "Y_PER"
   ]
  },
  {
   "cell_type": "code",
   "execution_count": 87,
   "id": "8c73aa2e",
   "metadata": {},
   "outputs": [
    {
     "data": {
      "text/plain": [
       "array([-208.37460386])"
      ]
     },
     "execution_count": 87,
     "metadata": {},
     "output_type": "execute_result"
    }
   ],
   "source": [
    "per=LR.predict([[1,2,3,4,5,6,7,8,3,2,5]])\n",
    "per"
   ]
  },
  {
   "cell_type": "markdown",
   "id": "a7d72d44",
   "metadata": {},
   "source": [
    "# STEP-7"
   ]
  },
  {
   "cell_type": "markdown",
   "id": "229d7dff",
   "metadata": {},
   "source": [
    "- LETS CHECK WEATHER Y_TEST == Y_PER"
   ]
  },
  {
   "cell_type": "code",
   "execution_count": 88,
   "id": "1408eacd",
   "metadata": {},
   "outputs": [
    {
     "data": {
      "text/html": [
       "<div>\n",
       "<style scoped>\n",
       "    .dataframe tbody tr th:only-of-type {\n",
       "        vertical-align: middle;\n",
       "    }\n",
       "\n",
       "    .dataframe tbody tr th {\n",
       "        vertical-align: top;\n",
       "    }\n",
       "\n",
       "    .dataframe thead th {\n",
       "        text-align: right;\n",
       "    }\n",
       "</style>\n",
       "<table border=\"1\" class=\"dataframe\">\n",
       "  <thead>\n",
       "    <tr style=\"text-align: right;\">\n",
       "      <th></th>\n",
       "      <th>y_actual</th>\n",
       "      <th>y_per</th>\n",
       "    </tr>\n",
       "  </thead>\n",
       "  <tbody>\n",
       "    <tr>\n",
       "      <th>1526</th>\n",
       "      <td>6.0</td>\n",
       "      <td>5.569367</td>\n",
       "    </tr>\n",
       "    <tr>\n",
       "      <th>674</th>\n",
       "      <td>6.0</td>\n",
       "      <td>5.664991</td>\n",
       "    </tr>\n",
       "    <tr>\n",
       "      <th>1508</th>\n",
       "      <td>6.0</td>\n",
       "      <td>5.873304</td>\n",
       "    </tr>\n",
       "    <tr>\n",
       "      <th>58</th>\n",
       "      <td>5.0</td>\n",
       "      <td>5.317134</td>\n",
       "    </tr>\n",
       "    <tr>\n",
       "      <th>1351</th>\n",
       "      <td>6.0</td>\n",
       "      <td>5.965114</td>\n",
       "    </tr>\n",
       "  </tbody>\n",
       "</table>\n",
       "</div>"
      ],
      "text/plain": [
       "      y_actual     y_per\n",
       "1526       6.0  5.569367\n",
       "674        6.0  5.664991\n",
       "1508       6.0  5.873304\n",
       "58         5.0  5.317134\n",
       "1351       6.0  5.965114"
      ]
     },
     "execution_count": 88,
     "metadata": {},
     "output_type": "execute_result"
    }
   ],
   "source": [
    "test_data=x_test\n",
    "test_data['y_actual']=y_test\n",
    "test_data['y_per']=y_peridctions\n",
    "test_data[['y_actual','y_per']].head(5)"
   ]
  },
  {
   "cell_type": "markdown",
   "id": "0a5b1958",
   "metadata": {},
   "source": [
    "- example"
   ]
  },
  {
   "cell_type": "code",
   "execution_count": 89,
   "id": "7f0ad72b",
   "metadata": {},
   "outputs": [
    {
     "name": "stdout",
     "output_type": "stream",
     "text": [
      "1526    6.0\n",
      "674     6.0\n",
      "1508    6.0\n",
      "58      5.0\n",
      "1351    6.0\n",
      "Name: quality, dtype: float64\n",
      "[5.56936696 5.66499092 5.87330358 5.31713439 5.96511391]\n"
     ]
    }
   ],
   "source": [
    "# we can also check like this\n",
    "print(y_test[:5])\n",
    "print(y_peridctions[:5])"
   ]
  },
  {
   "cell_type": "markdown",
   "id": "cb4fd349",
   "metadata": {},
   "source": [
    "# STEP-8"
   ]
  },
  {
   "cell_type": "markdown",
   "id": "15c7c269",
   "metadata": {},
   "source": [
    "- MODEL EVALUATION METRICS\n",
    "  - R_SQUARE,MSE,RMSE\n",
    "- IT IS ALSO AVALIBLE IN SKLEARN.METRICS"
   ]
  },
  {
   "cell_type": "code",
   "execution_count": 90,
   "id": "d72a8854",
   "metadata": {},
   "outputs": [],
   "source": [
    "from sklearn.metrics import mean_squared_error,r2_score"
   ]
  },
  {
   "cell_type": "code",
   "execution_count": 91,
   "id": "1fc7ccb6",
   "metadata": {},
   "outputs": [
    {
     "name": "stdout",
     "output_type": "stream",
     "text": [
      "THE MSE OF DATA IS 0.4281645616107649\n",
      "THE R_SQUARE OF DATA IS 0.32660881529106434\n",
      "THE RMSE OF DATA IS 0.6543428471457183\n"
     ]
    }
   ],
   "source": [
    "MSE=mean_squared_error(y_test,y_peridctions)\n",
    "R_SQUARE=r2_score(y_test,y_peridctions)\n",
    "#RMSE WE DONT HAVE METHOD SO\n",
    "RMSE=np.sqrt(MSE)\n",
    "print('THE MSE OF DATA IS',MSE)\n",
    "print('THE R_SQUARE OF DATA IS',R_SQUARE)\n",
    "print('THE RMSE OF DATA IS',RMSE)"
   ]
  },
  {
   "cell_type": "code",
   "execution_count": 92,
   "id": "ce033135",
   "metadata": {},
   "outputs": [
    {
     "ename": "SyntaxError",
     "evalue": "invalid syntax (218896471.py, line 1)",
     "output_type": "error",
     "traceback": [
      "\u001b[1;36m  Cell \u001b[1;32mIn[92], line 1\u001b[1;36m\u001b[0m\n\u001b[1;33m    ================================================================================================================================\u001b[0m\n\u001b[1;37m    ^\u001b[0m\n\u001b[1;31mSyntaxError\u001b[0m\u001b[1;31m:\u001b[0m invalid syntax\n"
     ]
    }
   ],
   "source": [
    "================================================================================================================================"
   ]
  },
  {
   "cell_type": "markdown",
   "id": "3b8f7fe2",
   "metadata": {},
   "source": [
    "# 12-04-2024"
   ]
  },
  {
   "cell_type": "markdown",
   "id": "aeec16c6",
   "metadata": {},
   "source": [
    "# FEATURE SELECTION METHODS"
   ]
  },
  {
   "cell_type": "code",
   "execution_count": 93,
   "id": "a5412c0b",
   "metadata": {},
   "outputs": [],
   "source": [
    "import numpy as np\n",
    "import pandas as pd\n",
    "import matplotlib.pyplot as plt\n",
    "import seaborn as sns\n",
    "import warnings\n",
    "warnings.filterwarnings('ignore')"
   ]
  },
  {
   "cell_type": "markdown",
   "id": "d2a4e873",
   "metadata": {},
   "source": [
    "# 1 VARIANCE THESHOLD METHOD\n",
    "- IT IS USED FOR BOTH REGRESSION CLASSIFICATION\n",
    "    - IF FEATURE IS HAVEING THE CONSTANT VALES THEN WE CAN DROP THE FEATURE\n",
    "    - example if we have a column of constant values then treshold == 0 so we can drop the column \n",
    "- 2 This method is avalible in sklean.feature_selection"
   ]
  },
  {
   "cell_type": "code",
   "execution_count": 94,
   "id": "86fc01bf",
   "metadata": {},
   "outputs": [
    {
     "data": {
      "text/html": [
       "<style>#sk-container-id-4 {color: black;}#sk-container-id-4 pre{padding: 0;}#sk-container-id-4 div.sk-toggleable {background-color: white;}#sk-container-id-4 label.sk-toggleable__label {cursor: pointer;display: block;width: 100%;margin-bottom: 0;padding: 0.3em;box-sizing: border-box;text-align: center;}#sk-container-id-4 label.sk-toggleable__label-arrow:before {content: \"▸\";float: left;margin-right: 0.25em;color: #696969;}#sk-container-id-4 label.sk-toggleable__label-arrow:hover:before {color: black;}#sk-container-id-4 div.sk-estimator:hover label.sk-toggleable__label-arrow:before {color: black;}#sk-container-id-4 div.sk-toggleable__content {max-height: 0;max-width: 0;overflow: hidden;text-align: left;background-color: #f0f8ff;}#sk-container-id-4 div.sk-toggleable__content pre {margin: 0.2em;color: black;border-radius: 0.25em;background-color: #f0f8ff;}#sk-container-id-4 input.sk-toggleable__control:checked~div.sk-toggleable__content {max-height: 200px;max-width: 100%;overflow: auto;}#sk-container-id-4 input.sk-toggleable__control:checked~label.sk-toggleable__label-arrow:before {content: \"▾\";}#sk-container-id-4 div.sk-estimator input.sk-toggleable__control:checked~label.sk-toggleable__label {background-color: #d4ebff;}#sk-container-id-4 div.sk-label input.sk-toggleable__control:checked~label.sk-toggleable__label {background-color: #d4ebff;}#sk-container-id-4 input.sk-hidden--visually {border: 0;clip: rect(1px 1px 1px 1px);clip: rect(1px, 1px, 1px, 1px);height: 1px;margin: -1px;overflow: hidden;padding: 0;position: absolute;width: 1px;}#sk-container-id-4 div.sk-estimator {font-family: monospace;background-color: #f0f8ff;border: 1px dotted black;border-radius: 0.25em;box-sizing: border-box;margin-bottom: 0.5em;}#sk-container-id-4 div.sk-estimator:hover {background-color: #d4ebff;}#sk-container-id-4 div.sk-parallel-item::after {content: \"\";width: 100%;border-bottom: 1px solid gray;flex-grow: 1;}#sk-container-id-4 div.sk-label:hover label.sk-toggleable__label {background-color: #d4ebff;}#sk-container-id-4 div.sk-serial::before {content: \"\";position: absolute;border-left: 1px solid gray;box-sizing: border-box;top: 0;bottom: 0;left: 50%;z-index: 0;}#sk-container-id-4 div.sk-serial {display: flex;flex-direction: column;align-items: center;background-color: white;padding-right: 0.2em;padding-left: 0.2em;position: relative;}#sk-container-id-4 div.sk-item {position: relative;z-index: 1;}#sk-container-id-4 div.sk-parallel {display: flex;align-items: stretch;justify-content: center;background-color: white;position: relative;}#sk-container-id-4 div.sk-item::before, #sk-container-id-4 div.sk-parallel-item::before {content: \"\";position: absolute;border-left: 1px solid gray;box-sizing: border-box;top: 0;bottom: 0;left: 50%;z-index: -1;}#sk-container-id-4 div.sk-parallel-item {display: flex;flex-direction: column;z-index: 1;position: relative;background-color: white;}#sk-container-id-4 div.sk-parallel-item:first-child::after {align-self: flex-end;width: 50%;}#sk-container-id-4 div.sk-parallel-item:last-child::after {align-self: flex-start;width: 50%;}#sk-container-id-4 div.sk-parallel-item:only-child::after {width: 0;}#sk-container-id-4 div.sk-dashed-wrapped {border: 1px dashed gray;margin: 0 0.4em 0.5em 0.4em;box-sizing: border-box;padding-bottom: 0.4em;background-color: white;}#sk-container-id-4 div.sk-label label {font-family: monospace;font-weight: bold;display: inline-block;line-height: 1.2em;}#sk-container-id-4 div.sk-label-container {text-align: center;}#sk-container-id-4 div.sk-container {/* jupyter's `normalize.less` sets `[hidden] { display: none; }` but bootstrap.min.css set `[hidden] { display: none !important; }` so we also need the `!important` here to be able to override the default hidden behavior on the sphinx rendered scikit-learn.org. See: https://github.com/scikit-learn/scikit-learn/issues/21755 */display: inline-block !important;position: relative;}#sk-container-id-4 div.sk-text-repr-fallback {display: none;}</style><div id=\"sk-container-id-4\" class=\"sk-top-container\"><div class=\"sk-text-repr-fallback\"><pre>VarianceThreshold()</pre><b>In a Jupyter environment, please rerun this cell to show the HTML representation or trust the notebook. <br />On GitHub, the HTML representation is unable to render, please try loading this page with nbviewer.org.</b></div><div class=\"sk-container\" hidden><div class=\"sk-item\"><div class=\"sk-estimator sk-toggleable\"><input class=\"sk-toggleable__control sk-hidden--visually\" id=\"sk-estimator-id-4\" type=\"checkbox\" checked><label for=\"sk-estimator-id-4\" class=\"sk-toggleable__label sk-toggleable__label-arrow\">VarianceThreshold</label><div class=\"sk-toggleable__content\"><pre>VarianceThreshold()</pre></div></div></div></div></div>"
      ],
      "text/plain": [
       "VarianceThreshold()"
      ]
     },
     "execution_count": 94,
     "metadata": {},
     "output_type": "execute_result"
    }
   ],
   "source": [
    "#example \n",
    "dict1={'a':[10,20,30],'b':[10,10,10],'c':[100,200,300]}\n",
    "df=pd.DataFrame(dict1)\n",
    "from sklearn.feature_selection import VarianceThreshold\n",
    "VT=VarianceThreshold(threshold=0.0)\n",
    "VT.fit(df)"
   ]
  },
  {
   "cell_type": "code",
   "execution_count": 95,
   "id": "d725088b",
   "metadata": {},
   "outputs": [
    {
     "data": {
      "text/plain": [
       "array([ 20.,   0., 200.])"
      ]
     },
     "execution_count": 95,
     "metadata": {},
     "output_type": "execute_result"
    }
   ],
   "source": [
    "# this method is used to see variances\n",
    "VT.variances_"
   ]
  },
  {
   "cell_type": "code",
   "execution_count": 96,
   "id": "a12963e4",
   "metadata": {},
   "outputs": [
    {
     "data": {
      "text/plain": [
       "0.0"
      ]
     },
     "execution_count": 96,
     "metadata": {},
     "output_type": "execute_result"
    }
   ],
   "source": [
    "#used to see variance\n",
    "VT.threshold"
   ]
  },
  {
   "cell_type": "code",
   "execution_count": 97,
   "id": "5a41f6c0",
   "metadata": {},
   "outputs": [
    {
     "data": {
      "text/plain": [
       "array([ True, False,  True])"
      ]
     },
     "execution_count": 97,
     "metadata": {},
     "output_type": "execute_result"
    }
   ],
   "source": [
    "# if False we can drop the column\n",
    "VT.get_support()"
   ]
  },
  {
   "cell_type": "code",
   "execution_count": 98,
   "id": "6562ab02",
   "metadata": {},
   "outputs": [],
   "source": [
    "# gives o/p of non_variance features\n",
    "col=VT.get_feature_names_out()\n",
    "# this gives o/p of column names this only we want to include"
   ]
  },
  {
   "cell_type": "code",
   "execution_count": 99,
   "id": "2e059710",
   "metadata": {},
   "outputs": [
    {
     "data": {
      "text/html": [
       "<div>\n",
       "<style scoped>\n",
       "    .dataframe tbody tr th:only-of-type {\n",
       "        vertical-align: middle;\n",
       "    }\n",
       "\n",
       "    .dataframe tbody tr th {\n",
       "        vertical-align: top;\n",
       "    }\n",
       "\n",
       "    .dataframe thead th {\n",
       "        text-align: right;\n",
       "    }\n",
       "</style>\n",
       "<table border=\"1\" class=\"dataframe\">\n",
       "  <thead>\n",
       "    <tr style=\"text-align: right;\">\n",
       "      <th></th>\n",
       "      <th>a</th>\n",
       "      <th>c</th>\n",
       "    </tr>\n",
       "  </thead>\n",
       "  <tbody>\n",
       "    <tr>\n",
       "      <th>0</th>\n",
       "      <td>10</td>\n",
       "      <td>100</td>\n",
       "    </tr>\n",
       "    <tr>\n",
       "      <th>1</th>\n",
       "      <td>20</td>\n",
       "      <td>200</td>\n",
       "    </tr>\n",
       "    <tr>\n",
       "      <th>2</th>\n",
       "      <td>30</td>\n",
       "      <td>300</td>\n",
       "    </tr>\n",
       "  </tbody>\n",
       "</table>\n",
       "</div>"
      ],
      "text/plain": [
       "    a    c\n",
       "0  10  100\n",
       "1  20  200\n",
       "2  30  300"
      ]
     },
     "execution_count": 99,
     "metadata": {},
     "output_type": "execute_result"
    }
   ],
   "source": [
    "df[col]"
   ]
  },
  {
   "cell_type": "markdown",
   "id": "33f9daec",
   "metadata": {},
   "source": [
    "- NOW LETS APPLY FOR OUR ORIGINAL DATASET"
   ]
  },
  {
   "cell_type": "code",
   "execution_count": 100,
   "id": "41b8efd8",
   "metadata": {},
   "outputs": [
    {
     "ename": "FileNotFoundError",
     "evalue": "[Errno 2] No such file or directory: 'C:\\\\Users\\\\kragh\\\\Data Files\\\\winequality_red - winequality_red.csv'",
     "output_type": "error",
     "traceback": [
      "\u001b[1;31m---------------------------------------------------------------------------\u001b[0m",
      "\u001b[1;31mFileNotFoundError\u001b[0m                         Traceback (most recent call last)",
      "Cell \u001b[1;32mIn[100], line 2\u001b[0m\n\u001b[0;32m      1\u001b[0m path\u001b[38;5;241m=\u001b[39m\u001b[38;5;124mr\u001b[39m\u001b[38;5;124m\"\u001b[39m\u001b[38;5;124mC:\u001b[39m\u001b[38;5;124m\\\u001b[39m\u001b[38;5;124mUsers\u001b[39m\u001b[38;5;124m\\\u001b[39m\u001b[38;5;124mkragh\u001b[39m\u001b[38;5;124m\\\u001b[39m\u001b[38;5;124mData Files\u001b[39m\u001b[38;5;124m\\\u001b[39m\u001b[38;5;124mwinequality_red - winequality_red.csv\u001b[39m\u001b[38;5;124m\"\u001b[39m\n\u001b[1;32m----> 2\u001b[0m wine_df\u001b[38;5;241m=\u001b[39mpd\u001b[38;5;241m.\u001b[39mread_csv(path)\n\u001b[0;32m      3\u001b[0m wine_df\u001b[38;5;241m.\u001b[39mhead(\u001b[38;5;241m3\u001b[39m)\n\u001b[0;32m      4\u001b[0m wine_df\u001b[38;5;241m.\u001b[39mdropna(inplace\u001b[38;5;241m=\u001b[39m\u001b[38;5;28;01mTrue\u001b[39;00m)\n",
      "File \u001b[1;32m~\\anaconda3\\Lib\\site-packages\\pandas\\io\\parsers\\readers.py:912\u001b[0m, in \u001b[0;36mread_csv\u001b[1;34m(filepath_or_buffer, sep, delimiter, header, names, index_col, usecols, dtype, engine, converters, true_values, false_values, skipinitialspace, skiprows, skipfooter, nrows, na_values, keep_default_na, na_filter, verbose, skip_blank_lines, parse_dates, infer_datetime_format, keep_date_col, date_parser, date_format, dayfirst, cache_dates, iterator, chunksize, compression, thousands, decimal, lineterminator, quotechar, quoting, doublequote, escapechar, comment, encoding, encoding_errors, dialect, on_bad_lines, delim_whitespace, low_memory, memory_map, float_precision, storage_options, dtype_backend)\u001b[0m\n\u001b[0;32m    899\u001b[0m kwds_defaults \u001b[38;5;241m=\u001b[39m _refine_defaults_read(\n\u001b[0;32m    900\u001b[0m     dialect,\n\u001b[0;32m    901\u001b[0m     delimiter,\n\u001b[1;32m   (...)\u001b[0m\n\u001b[0;32m    908\u001b[0m     dtype_backend\u001b[38;5;241m=\u001b[39mdtype_backend,\n\u001b[0;32m    909\u001b[0m )\n\u001b[0;32m    910\u001b[0m kwds\u001b[38;5;241m.\u001b[39mupdate(kwds_defaults)\n\u001b[1;32m--> 912\u001b[0m \u001b[38;5;28;01mreturn\u001b[39;00m _read(filepath_or_buffer, kwds)\n",
      "File \u001b[1;32m~\\anaconda3\\Lib\\site-packages\\pandas\\io\\parsers\\readers.py:577\u001b[0m, in \u001b[0;36m_read\u001b[1;34m(filepath_or_buffer, kwds)\u001b[0m\n\u001b[0;32m    574\u001b[0m _validate_names(kwds\u001b[38;5;241m.\u001b[39mget(\u001b[38;5;124m\"\u001b[39m\u001b[38;5;124mnames\u001b[39m\u001b[38;5;124m\"\u001b[39m, \u001b[38;5;28;01mNone\u001b[39;00m))\n\u001b[0;32m    576\u001b[0m \u001b[38;5;66;03m# Create the parser.\u001b[39;00m\n\u001b[1;32m--> 577\u001b[0m parser \u001b[38;5;241m=\u001b[39m TextFileReader(filepath_or_buffer, \u001b[38;5;241m*\u001b[39m\u001b[38;5;241m*\u001b[39mkwds)\n\u001b[0;32m    579\u001b[0m \u001b[38;5;28;01mif\u001b[39;00m chunksize \u001b[38;5;129;01mor\u001b[39;00m iterator:\n\u001b[0;32m    580\u001b[0m     \u001b[38;5;28;01mreturn\u001b[39;00m parser\n",
      "File \u001b[1;32m~\\anaconda3\\Lib\\site-packages\\pandas\\io\\parsers\\readers.py:1407\u001b[0m, in \u001b[0;36mTextFileReader.__init__\u001b[1;34m(self, f, engine, **kwds)\u001b[0m\n\u001b[0;32m   1404\u001b[0m     \u001b[38;5;28mself\u001b[39m\u001b[38;5;241m.\u001b[39moptions[\u001b[38;5;124m\"\u001b[39m\u001b[38;5;124mhas_index_names\u001b[39m\u001b[38;5;124m\"\u001b[39m] \u001b[38;5;241m=\u001b[39m kwds[\u001b[38;5;124m\"\u001b[39m\u001b[38;5;124mhas_index_names\u001b[39m\u001b[38;5;124m\"\u001b[39m]\n\u001b[0;32m   1406\u001b[0m \u001b[38;5;28mself\u001b[39m\u001b[38;5;241m.\u001b[39mhandles: IOHandles \u001b[38;5;241m|\u001b[39m \u001b[38;5;28;01mNone\u001b[39;00m \u001b[38;5;241m=\u001b[39m \u001b[38;5;28;01mNone\u001b[39;00m\n\u001b[1;32m-> 1407\u001b[0m \u001b[38;5;28mself\u001b[39m\u001b[38;5;241m.\u001b[39m_engine \u001b[38;5;241m=\u001b[39m \u001b[38;5;28mself\u001b[39m\u001b[38;5;241m.\u001b[39m_make_engine(f, \u001b[38;5;28mself\u001b[39m\u001b[38;5;241m.\u001b[39mengine)\n",
      "File \u001b[1;32m~\\anaconda3\\Lib\\site-packages\\pandas\\io\\parsers\\readers.py:1661\u001b[0m, in \u001b[0;36mTextFileReader._make_engine\u001b[1;34m(self, f, engine)\u001b[0m\n\u001b[0;32m   1659\u001b[0m     \u001b[38;5;28;01mif\u001b[39;00m \u001b[38;5;124m\"\u001b[39m\u001b[38;5;124mb\u001b[39m\u001b[38;5;124m\"\u001b[39m \u001b[38;5;129;01mnot\u001b[39;00m \u001b[38;5;129;01min\u001b[39;00m mode:\n\u001b[0;32m   1660\u001b[0m         mode \u001b[38;5;241m+\u001b[39m\u001b[38;5;241m=\u001b[39m \u001b[38;5;124m\"\u001b[39m\u001b[38;5;124mb\u001b[39m\u001b[38;5;124m\"\u001b[39m\n\u001b[1;32m-> 1661\u001b[0m \u001b[38;5;28mself\u001b[39m\u001b[38;5;241m.\u001b[39mhandles \u001b[38;5;241m=\u001b[39m get_handle(\n\u001b[0;32m   1662\u001b[0m     f,\n\u001b[0;32m   1663\u001b[0m     mode,\n\u001b[0;32m   1664\u001b[0m     encoding\u001b[38;5;241m=\u001b[39m\u001b[38;5;28mself\u001b[39m\u001b[38;5;241m.\u001b[39moptions\u001b[38;5;241m.\u001b[39mget(\u001b[38;5;124m\"\u001b[39m\u001b[38;5;124mencoding\u001b[39m\u001b[38;5;124m\"\u001b[39m, \u001b[38;5;28;01mNone\u001b[39;00m),\n\u001b[0;32m   1665\u001b[0m     compression\u001b[38;5;241m=\u001b[39m\u001b[38;5;28mself\u001b[39m\u001b[38;5;241m.\u001b[39moptions\u001b[38;5;241m.\u001b[39mget(\u001b[38;5;124m\"\u001b[39m\u001b[38;5;124mcompression\u001b[39m\u001b[38;5;124m\"\u001b[39m, \u001b[38;5;28;01mNone\u001b[39;00m),\n\u001b[0;32m   1666\u001b[0m     memory_map\u001b[38;5;241m=\u001b[39m\u001b[38;5;28mself\u001b[39m\u001b[38;5;241m.\u001b[39moptions\u001b[38;5;241m.\u001b[39mget(\u001b[38;5;124m\"\u001b[39m\u001b[38;5;124mmemory_map\u001b[39m\u001b[38;5;124m\"\u001b[39m, \u001b[38;5;28;01mFalse\u001b[39;00m),\n\u001b[0;32m   1667\u001b[0m     is_text\u001b[38;5;241m=\u001b[39mis_text,\n\u001b[0;32m   1668\u001b[0m     errors\u001b[38;5;241m=\u001b[39m\u001b[38;5;28mself\u001b[39m\u001b[38;5;241m.\u001b[39moptions\u001b[38;5;241m.\u001b[39mget(\u001b[38;5;124m\"\u001b[39m\u001b[38;5;124mencoding_errors\u001b[39m\u001b[38;5;124m\"\u001b[39m, \u001b[38;5;124m\"\u001b[39m\u001b[38;5;124mstrict\u001b[39m\u001b[38;5;124m\"\u001b[39m),\n\u001b[0;32m   1669\u001b[0m     storage_options\u001b[38;5;241m=\u001b[39m\u001b[38;5;28mself\u001b[39m\u001b[38;5;241m.\u001b[39moptions\u001b[38;5;241m.\u001b[39mget(\u001b[38;5;124m\"\u001b[39m\u001b[38;5;124mstorage_options\u001b[39m\u001b[38;5;124m\"\u001b[39m, \u001b[38;5;28;01mNone\u001b[39;00m),\n\u001b[0;32m   1670\u001b[0m )\n\u001b[0;32m   1671\u001b[0m \u001b[38;5;28;01massert\u001b[39;00m \u001b[38;5;28mself\u001b[39m\u001b[38;5;241m.\u001b[39mhandles \u001b[38;5;129;01mis\u001b[39;00m \u001b[38;5;129;01mnot\u001b[39;00m \u001b[38;5;28;01mNone\u001b[39;00m\n\u001b[0;32m   1672\u001b[0m f \u001b[38;5;241m=\u001b[39m \u001b[38;5;28mself\u001b[39m\u001b[38;5;241m.\u001b[39mhandles\u001b[38;5;241m.\u001b[39mhandle\n",
      "File \u001b[1;32m~\\anaconda3\\Lib\\site-packages\\pandas\\io\\common.py:859\u001b[0m, in \u001b[0;36mget_handle\u001b[1;34m(path_or_buf, mode, encoding, compression, memory_map, is_text, errors, storage_options)\u001b[0m\n\u001b[0;32m    854\u001b[0m \u001b[38;5;28;01melif\u001b[39;00m \u001b[38;5;28misinstance\u001b[39m(handle, \u001b[38;5;28mstr\u001b[39m):\n\u001b[0;32m    855\u001b[0m     \u001b[38;5;66;03m# Check whether the filename is to be opened in binary mode.\u001b[39;00m\n\u001b[0;32m    856\u001b[0m     \u001b[38;5;66;03m# Binary mode does not support 'encoding' and 'newline'.\u001b[39;00m\n\u001b[0;32m    857\u001b[0m     \u001b[38;5;28;01mif\u001b[39;00m ioargs\u001b[38;5;241m.\u001b[39mencoding \u001b[38;5;129;01mand\u001b[39;00m \u001b[38;5;124m\"\u001b[39m\u001b[38;5;124mb\u001b[39m\u001b[38;5;124m\"\u001b[39m \u001b[38;5;129;01mnot\u001b[39;00m \u001b[38;5;129;01min\u001b[39;00m ioargs\u001b[38;5;241m.\u001b[39mmode:\n\u001b[0;32m    858\u001b[0m         \u001b[38;5;66;03m# Encoding\u001b[39;00m\n\u001b[1;32m--> 859\u001b[0m         handle \u001b[38;5;241m=\u001b[39m \u001b[38;5;28mopen\u001b[39m(\n\u001b[0;32m    860\u001b[0m             handle,\n\u001b[0;32m    861\u001b[0m             ioargs\u001b[38;5;241m.\u001b[39mmode,\n\u001b[0;32m    862\u001b[0m             encoding\u001b[38;5;241m=\u001b[39mioargs\u001b[38;5;241m.\u001b[39mencoding,\n\u001b[0;32m    863\u001b[0m             errors\u001b[38;5;241m=\u001b[39merrors,\n\u001b[0;32m    864\u001b[0m             newline\u001b[38;5;241m=\u001b[39m\u001b[38;5;124m\"\u001b[39m\u001b[38;5;124m\"\u001b[39m,\n\u001b[0;32m    865\u001b[0m         )\n\u001b[0;32m    866\u001b[0m     \u001b[38;5;28;01melse\u001b[39;00m:\n\u001b[0;32m    867\u001b[0m         \u001b[38;5;66;03m# Binary mode\u001b[39;00m\n\u001b[0;32m    868\u001b[0m         handle \u001b[38;5;241m=\u001b[39m \u001b[38;5;28mopen\u001b[39m(handle, ioargs\u001b[38;5;241m.\u001b[39mmode)\n",
      "\u001b[1;31mFileNotFoundError\u001b[0m: [Errno 2] No such file or directory: 'C:\\\\Users\\\\kragh\\\\Data Files\\\\winequality_red - winequality_red.csv'"
     ]
    }
   ],
   "source": [
    "path=r\"C:\\Users\\kragh\\Data Files\\winequality_red - winequality_red.csv\"\n",
    "wine_df=pd.read_csv(path)\n",
    "wine_df.head(3)\n",
    "wine_df.dropna(inplace=True)\n",
    "wine_df.reset_index(drop=True,inplace=True)"
   ]
  },
  {
   "cell_type": "code",
   "execution_count": null,
   "id": "6d15c0cf",
   "metadata": {},
   "outputs": [],
   "source": [
    "wine_df.head(2)"
   ]
  },
  {
   "cell_type": "markdown",
   "id": "c94c92ba",
   "metadata": {},
   "source": [
    "- WE SHOULD APPLY ONLY INPUT COLUMNS"
   ]
  },
  {
   "cell_type": "code",
   "execution_count": 101,
   "id": "61a79d03",
   "metadata": {},
   "outputs": [],
   "source": [
    "all_columns=wine_df.drop('quality',axis=1)"
   ]
  },
  {
   "cell_type": "markdown",
   "id": "06095da5",
   "metadata": {},
   "source": [
    "- NOW IMPORT Variance_treshold"
   ]
  },
  {
   "cell_type": "code",
   "execution_count": 102,
   "id": "8356f978",
   "metadata": {},
   "outputs": [
    {
     "data": {
      "text/html": [
       "<style>#sk-container-id-5 {color: black;}#sk-container-id-5 pre{padding: 0;}#sk-container-id-5 div.sk-toggleable {background-color: white;}#sk-container-id-5 label.sk-toggleable__label {cursor: pointer;display: block;width: 100%;margin-bottom: 0;padding: 0.3em;box-sizing: border-box;text-align: center;}#sk-container-id-5 label.sk-toggleable__label-arrow:before {content: \"▸\";float: left;margin-right: 0.25em;color: #696969;}#sk-container-id-5 label.sk-toggleable__label-arrow:hover:before {color: black;}#sk-container-id-5 div.sk-estimator:hover label.sk-toggleable__label-arrow:before {color: black;}#sk-container-id-5 div.sk-toggleable__content {max-height: 0;max-width: 0;overflow: hidden;text-align: left;background-color: #f0f8ff;}#sk-container-id-5 div.sk-toggleable__content pre {margin: 0.2em;color: black;border-radius: 0.25em;background-color: #f0f8ff;}#sk-container-id-5 input.sk-toggleable__control:checked~div.sk-toggleable__content {max-height: 200px;max-width: 100%;overflow: auto;}#sk-container-id-5 input.sk-toggleable__control:checked~label.sk-toggleable__label-arrow:before {content: \"▾\";}#sk-container-id-5 div.sk-estimator input.sk-toggleable__control:checked~label.sk-toggleable__label {background-color: #d4ebff;}#sk-container-id-5 div.sk-label input.sk-toggleable__control:checked~label.sk-toggleable__label {background-color: #d4ebff;}#sk-container-id-5 input.sk-hidden--visually {border: 0;clip: rect(1px 1px 1px 1px);clip: rect(1px, 1px, 1px, 1px);height: 1px;margin: -1px;overflow: hidden;padding: 0;position: absolute;width: 1px;}#sk-container-id-5 div.sk-estimator {font-family: monospace;background-color: #f0f8ff;border: 1px dotted black;border-radius: 0.25em;box-sizing: border-box;margin-bottom: 0.5em;}#sk-container-id-5 div.sk-estimator:hover {background-color: #d4ebff;}#sk-container-id-5 div.sk-parallel-item::after {content: \"\";width: 100%;border-bottom: 1px solid gray;flex-grow: 1;}#sk-container-id-5 div.sk-label:hover label.sk-toggleable__label {background-color: #d4ebff;}#sk-container-id-5 div.sk-serial::before {content: \"\";position: absolute;border-left: 1px solid gray;box-sizing: border-box;top: 0;bottom: 0;left: 50%;z-index: 0;}#sk-container-id-5 div.sk-serial {display: flex;flex-direction: column;align-items: center;background-color: white;padding-right: 0.2em;padding-left: 0.2em;position: relative;}#sk-container-id-5 div.sk-item {position: relative;z-index: 1;}#sk-container-id-5 div.sk-parallel {display: flex;align-items: stretch;justify-content: center;background-color: white;position: relative;}#sk-container-id-5 div.sk-item::before, #sk-container-id-5 div.sk-parallel-item::before {content: \"\";position: absolute;border-left: 1px solid gray;box-sizing: border-box;top: 0;bottom: 0;left: 50%;z-index: -1;}#sk-container-id-5 div.sk-parallel-item {display: flex;flex-direction: column;z-index: 1;position: relative;background-color: white;}#sk-container-id-5 div.sk-parallel-item:first-child::after {align-self: flex-end;width: 50%;}#sk-container-id-5 div.sk-parallel-item:last-child::after {align-self: flex-start;width: 50%;}#sk-container-id-5 div.sk-parallel-item:only-child::after {width: 0;}#sk-container-id-5 div.sk-dashed-wrapped {border: 1px dashed gray;margin: 0 0.4em 0.5em 0.4em;box-sizing: border-box;padding-bottom: 0.4em;background-color: white;}#sk-container-id-5 div.sk-label label {font-family: monospace;font-weight: bold;display: inline-block;line-height: 1.2em;}#sk-container-id-5 div.sk-label-container {text-align: center;}#sk-container-id-5 div.sk-container {/* jupyter's `normalize.less` sets `[hidden] { display: none; }` but bootstrap.min.css set `[hidden] { display: none !important; }` so we also need the `!important` here to be able to override the default hidden behavior on the sphinx rendered scikit-learn.org. See: https://github.com/scikit-learn/scikit-learn/issues/21755 */display: inline-block !important;position: relative;}#sk-container-id-5 div.sk-text-repr-fallback {display: none;}</style><div id=\"sk-container-id-5\" class=\"sk-top-container\"><div class=\"sk-text-repr-fallback\"><pre>VarianceThreshold(threshold=1)</pre><b>In a Jupyter environment, please rerun this cell to show the HTML representation or trust the notebook. <br />On GitHub, the HTML representation is unable to render, please try loading this page with nbviewer.org.</b></div><div class=\"sk-container\" hidden><div class=\"sk-item\"><div class=\"sk-estimator sk-toggleable\"><input class=\"sk-toggleable__control sk-hidden--visually\" id=\"sk-estimator-id-5\" type=\"checkbox\" checked><label for=\"sk-estimator-id-5\" class=\"sk-toggleable__label sk-toggleable__label-arrow\">VarianceThreshold</label><div class=\"sk-toggleable__content\"><pre>VarianceThreshold(threshold=1)</pre></div></div></div></div></div>"
      ],
      "text/plain": [
       "VarianceThreshold(threshold=1)"
      ]
     },
     "execution_count": 102,
     "metadata": {},
     "output_type": "execute_result"
    }
   ],
   "source": [
    "from sklearn.feature_selection import VarianceThreshold\n",
    "VT=VarianceThreshold(threshold=1)\n",
    "#by default=0 but we will keep as 1\n",
    "VT.fit(all_columns)"
   ]
  },
  {
   "cell_type": "code",
   "execution_count": 103,
   "id": "ada5630e",
   "metadata": {},
   "outputs": [
    {
     "data": {
      "text/plain": [
       "array([3.02952057e+00, 3.20423261e-02, 3.79237511e-02, 1.98665392e+00,\n",
       "       2.21375732e-03, 1.09346457e+02, 1.08142564e+03, 3.55980179e-06,\n",
       "       2.38202742e-02, 2.87146470e-02, 1.13493717e+00])"
      ]
     },
     "execution_count": 103,
     "metadata": {},
     "output_type": "execute_result"
    }
   ],
   "source": [
    "VT.variances_\n",
    "# here we got variance of above 1 out variance is 0 so, no drop of column"
   ]
  },
  {
   "cell_type": "code",
   "execution_count": 104,
   "id": "4395747a",
   "metadata": {},
   "outputs": [
    {
     "data": {
      "text/plain": [
       "array([ True, False, False,  True, False,  True,  True, False, False,\n",
       "       False,  True])"
      ]
     },
     "execution_count": 104,
     "metadata": {},
     "output_type": "execute_result"
    }
   ],
   "source": [
    "VT.get_support()"
   ]
  },
  {
   "cell_type": "code",
   "execution_count": 105,
   "id": "a326c19d",
   "metadata": {},
   "outputs": [],
   "source": [
    "# now we have to include this columns only \n",
    "after_columns=VT.get_feature_names_out()"
   ]
  },
  {
   "cell_type": "code",
   "execution_count": 106,
   "id": "cf719395",
   "metadata": {},
   "outputs": [
    {
     "data": {
      "text/html": [
       "<div>\n",
       "<style scoped>\n",
       "    .dataframe tbody tr th:only-of-type {\n",
       "        vertical-align: middle;\n",
       "    }\n",
       "\n",
       "    .dataframe tbody tr th {\n",
       "        vertical-align: top;\n",
       "    }\n",
       "\n",
       "    .dataframe thead th {\n",
       "        text-align: right;\n",
       "    }\n",
       "</style>\n",
       "<table border=\"1\" class=\"dataframe\">\n",
       "  <thead>\n",
       "    <tr style=\"text-align: right;\">\n",
       "      <th></th>\n",
       "      <th>fixed acidity</th>\n",
       "      <th>residual sugar</th>\n",
       "      <th>free sulfur dioxide</th>\n",
       "      <th>total sulfur dioxide</th>\n",
       "      <th>alcohol</th>\n",
       "    </tr>\n",
       "  </thead>\n",
       "  <tbody>\n",
       "    <tr>\n",
       "      <th>0</th>\n",
       "      <td>7.4</td>\n",
       "      <td>1.9</td>\n",
       "      <td>11.0</td>\n",
       "      <td>34.0</td>\n",
       "      <td>9.4</td>\n",
       "    </tr>\n",
       "    <tr>\n",
       "      <th>1</th>\n",
       "      <td>7.8</td>\n",
       "      <td>2.6</td>\n",
       "      <td>25.0</td>\n",
       "      <td>67.0</td>\n",
       "      <td>9.8</td>\n",
       "    </tr>\n",
       "    <tr>\n",
       "      <th>2</th>\n",
       "      <td>7.8</td>\n",
       "      <td>2.3</td>\n",
       "      <td>15.0</td>\n",
       "      <td>54.0</td>\n",
       "      <td>9.8</td>\n",
       "    </tr>\n",
       "  </tbody>\n",
       "</table>\n",
       "</div>"
      ],
      "text/plain": [
       "   fixed acidity  residual sugar  free sulfur dioxide  total sulfur dioxide  \\\n",
       "0            7.4             1.9                 11.0                  34.0   \n",
       "1            7.8             2.6                 25.0                  67.0   \n",
       "2            7.8             2.3                 15.0                  54.0   \n",
       "\n",
       "   alcohol  \n",
       "0      9.4  \n",
       "1      9.8  \n",
       "2      9.8  "
      ]
     },
     "execution_count": 106,
     "metadata": {},
     "output_type": "execute_result"
    }
   ],
   "source": [
    "df=all_columns[after_columns]\n",
    "df.head(3)"
   ]
  },
  {
   "cell_type": "markdown",
   "id": "f2986b85",
   "metadata": {},
   "source": [
    "**NOTE:THIS ARE OUR COLUMNS FINALLY**"
   ]
  },
  {
   "cell_type": "markdown",
   "id": "5a28cbdb",
   "metadata": {},
   "source": [
    "# METHOD-2"
   ]
  },
  {
   "cell_type": "markdown",
   "id": "8ab2cc71",
   "metadata": {},
   "source": [
    "# Mutual info classify\n",
    "   - Information gain\n",
    "   - it says about how much relation (or) gain w.r.t o/p varable\n",
    "   - we have to divide the data into X & Y\n",
    "   - if gain is high inculde that columns\n",
    "- here we use entropy and knn methods"
   ]
  },
  {
   "cell_type": "code",
   "execution_count": 107,
   "id": "8ec7c122",
   "metadata": {},
   "outputs": [
    {
     "data": {
      "text/html": [
       "<div>\n",
       "<style scoped>\n",
       "    .dataframe tbody tr th:only-of-type {\n",
       "        vertical-align: middle;\n",
       "    }\n",
       "\n",
       "    .dataframe tbody tr th {\n",
       "        vertical-align: top;\n",
       "    }\n",
       "\n",
       "    .dataframe thead th {\n",
       "        text-align: right;\n",
       "    }\n",
       "</style>\n",
       "<table border=\"1\" class=\"dataframe\">\n",
       "  <thead>\n",
       "    <tr style=\"text-align: right;\">\n",
       "      <th></th>\n",
       "      <th>fixed acidity</th>\n",
       "      <th>volatile acidity</th>\n",
       "      <th>citric acid</th>\n",
       "      <th>residual sugar</th>\n",
       "      <th>chlorides</th>\n",
       "      <th>free sulfur dioxide</th>\n",
       "      <th>total sulfur dioxide</th>\n",
       "      <th>density</th>\n",
       "      <th>pH</th>\n",
       "      <th>sulphates</th>\n",
       "      <th>alcohol</th>\n",
       "      <th>quality</th>\n",
       "    </tr>\n",
       "  </thead>\n",
       "  <tbody>\n",
       "    <tr>\n",
       "      <th>0</th>\n",
       "      <td>7.4</td>\n",
       "      <td>0.70</td>\n",
       "      <td>0.0</td>\n",
       "      <td>1.9</td>\n",
       "      <td>0.076</td>\n",
       "      <td>11.0</td>\n",
       "      <td>34.0</td>\n",
       "      <td>0.9978</td>\n",
       "      <td>3.51</td>\n",
       "      <td>0.56</td>\n",
       "      <td>9.4</td>\n",
       "      <td>5.0</td>\n",
       "    </tr>\n",
       "    <tr>\n",
       "      <th>1</th>\n",
       "      <td>7.8</td>\n",
       "      <td>0.88</td>\n",
       "      <td>0.0</td>\n",
       "      <td>2.6</td>\n",
       "      <td>0.098</td>\n",
       "      <td>25.0</td>\n",
       "      <td>67.0</td>\n",
       "      <td>0.9968</td>\n",
       "      <td>3.20</td>\n",
       "      <td>0.68</td>\n",
       "      <td>9.8</td>\n",
       "      <td>5.0</td>\n",
       "    </tr>\n",
       "  </tbody>\n",
       "</table>\n",
       "</div>"
      ],
      "text/plain": [
       "   fixed acidity  volatile acidity  citric acid  residual sugar  chlorides  \\\n",
       "0            7.4              0.70          0.0             1.9      0.076   \n",
       "1            7.8              0.88          0.0             2.6      0.098   \n",
       "\n",
       "   free sulfur dioxide  total sulfur dioxide  density    pH  sulphates  \\\n",
       "0                 11.0                  34.0   0.9978  3.51       0.56   \n",
       "1                 25.0                  67.0   0.9968  3.20       0.68   \n",
       "\n",
       "   alcohol  quality  \n",
       "0      9.4      5.0  \n",
       "1      9.8      5.0  "
      ]
     },
     "execution_count": 107,
     "metadata": {},
     "output_type": "execute_result"
    }
   ],
   "source": [
    "#rd data\n",
    "wine_df.head(2)"
   ]
  },
  {
   "cell_type": "markdown",
   "id": "a38173ba",
   "metadata": {},
   "source": [
    "- divide data into x and y"
   ]
  },
  {
   "cell_type": "code",
   "execution_count": 108,
   "id": "a117955b",
   "metadata": {},
   "outputs": [],
   "source": [
    "X=wine_df.drop('quality',axis=1)\n",
    "Y=wine_df['quality']"
   ]
  },
  {
   "cell_type": "markdown",
   "id": "37daed64",
   "metadata": {},
   "source": [
    "- Now import the method called mutual_info_classify"
   ]
  },
  {
   "cell_type": "code",
   "execution_count": 109,
   "id": "9b9acd85",
   "metadata": {},
   "outputs": [],
   "source": [
    "from sklearn.feature_selection import mutual_info_classif\n",
    "MIC=mutual_info_classif(X,Y)"
   ]
  },
  {
   "cell_type": "code",
   "execution_count": 110,
   "id": "6d497c2b",
   "metadata": {},
   "outputs": [
    {
     "data": {
      "text/plain": [
       "array([0.05349937, 0.11735813, 0.0778571 , 0.01933116, 0.04971828,\n",
       "       0.02787712, 0.07721573, 0.09265229, 0.01546701, 0.09946142,\n",
       "       0.16309004])"
      ]
     },
     "execution_count": 110,
     "metadata": {},
     "output_type": "execute_result"
    }
   ],
   "source": [
    "# now we have got the gain\n",
    "MIC"
   ]
  },
  {
   "cell_type": "code",
   "execution_count": 111,
   "id": "bc72fbef",
   "metadata": {},
   "outputs": [
    {
     "data": {
      "text/html": [
       "<div>\n",
       "<style scoped>\n",
       "    .dataframe tbody tr th:only-of-type {\n",
       "        vertical-align: middle;\n",
       "    }\n",
       "\n",
       "    .dataframe tbody tr th {\n",
       "        vertical-align: top;\n",
       "    }\n",
       "\n",
       "    .dataframe thead th {\n",
       "        text-align: right;\n",
       "    }\n",
       "</style>\n",
       "<table border=\"1\" class=\"dataframe\">\n",
       "  <thead>\n",
       "    <tr style=\"text-align: right;\">\n",
       "      <th></th>\n",
       "      <th>INFORMATION GAIN</th>\n",
       "    </tr>\n",
       "  </thead>\n",
       "  <tbody>\n",
       "    <tr>\n",
       "      <th>alcohol</th>\n",
       "      <td>0.163090</td>\n",
       "    </tr>\n",
       "    <tr>\n",
       "      <th>volatile acidity</th>\n",
       "      <td>0.117358</td>\n",
       "    </tr>\n",
       "    <tr>\n",
       "      <th>sulphates</th>\n",
       "      <td>0.099461</td>\n",
       "    </tr>\n",
       "    <tr>\n",
       "      <th>density</th>\n",
       "      <td>0.092652</td>\n",
       "    </tr>\n",
       "    <tr>\n",
       "      <th>citric acid</th>\n",
       "      <td>0.077857</td>\n",
       "    </tr>\n",
       "    <tr>\n",
       "      <th>total sulfur dioxide</th>\n",
       "      <td>0.077216</td>\n",
       "    </tr>\n",
       "    <tr>\n",
       "      <th>fixed acidity</th>\n",
       "      <td>0.053499</td>\n",
       "    </tr>\n",
       "    <tr>\n",
       "      <th>chlorides</th>\n",
       "      <td>0.049718</td>\n",
       "    </tr>\n",
       "    <tr>\n",
       "      <th>free sulfur dioxide</th>\n",
       "      <td>0.027877</td>\n",
       "    </tr>\n",
       "    <tr>\n",
       "      <th>residual sugar</th>\n",
       "      <td>0.019331</td>\n",
       "    </tr>\n",
       "    <tr>\n",
       "      <th>pH</th>\n",
       "      <td>0.015467</td>\n",
       "    </tr>\n",
       "  </tbody>\n",
       "</table>\n",
       "</div>"
      ],
      "text/plain": [
       "                      INFORMATION GAIN\n",
       "alcohol                       0.163090\n",
       "volatile acidity              0.117358\n",
       "sulphates                     0.099461\n",
       "density                       0.092652\n",
       "citric acid                   0.077857\n",
       "total sulfur dioxide          0.077216\n",
       "fixed acidity                 0.053499\n",
       "chlorides                     0.049718\n",
       "free sulfur dioxide           0.027877\n",
       "residual sugar                0.019331\n",
       "pH                            0.015467"
      ]
     },
     "execution_count": 111,
     "metadata": {},
     "output_type": "execute_result"
    }
   ],
   "source": [
    "#now lets make data frame\n",
    "df=pd.DataFrame(MIC,columns=['INFORMATION GAIN'],index=X.columns)\n",
    "df.sort_values('INFORMATION GAIN',ascending=False)\n",
    "# now which ever is having highest gain take that columns and other columns leave them"
   ]
  },
  {
   "cell_type": "markdown",
   "id": "6f4b4ade",
   "metadata": {},
   "source": [
    "- NOW WE NEED TO SELECT THE COLUMNS THAT ARE HAVE HIGHEST GAIN\n",
    "- FOE THIS WE HAVE A METHOD AS SelectKBest"
   ]
  },
  {
   "cell_type": "code",
   "execution_count": 112,
   "id": "92aa6717",
   "metadata": {},
   "outputs": [],
   "source": [
    "from sklearn.feature_selection import SelectKBest,mutual_info_classif"
   ]
  },
  {
   "cell_type": "code",
   "execution_count": 113,
   "id": "92a45ce8",
   "metadata": {},
   "outputs": [],
   "source": [
    "X=wine_df.drop('quality',axis=1)\n",
    "Y=wine_df['quality']"
   ]
  },
  {
   "cell_type": "code",
   "execution_count": 114,
   "id": "d6aefe03",
   "metadata": {},
   "outputs": [],
   "source": [
    "top5=SelectKBest(mutual_info_classif,k=5)"
   ]
  },
  {
   "cell_type": "code",
   "execution_count": 115,
   "id": "b58ba6c0",
   "metadata": {},
   "outputs": [],
   "source": [
    "data=top5.fit(X,Y)"
   ]
  },
  {
   "cell_type": "code",
   "execution_count": 116,
   "id": "91d1e303",
   "metadata": {},
   "outputs": [
    {
     "data": {
      "text/plain": [
       "array(['volatile acidity', 'total sulfur dioxide', 'density', 'sulphates',\n",
       "       'alcohol'], dtype=object)"
      ]
     },
     "execution_count": 116,
     "metadata": {},
     "output_type": "execute_result"
    }
   ],
   "source": [
    "data.get_feature_names_out()"
   ]
  },
  {
   "cell_type": "code",
   "execution_count": 117,
   "id": "e6a067c0",
   "metadata": {},
   "outputs": [
    {
     "data": {
      "text/html": [
       "<div>\n",
       "<style scoped>\n",
       "    .dataframe tbody tr th:only-of-type {\n",
       "        vertical-align: middle;\n",
       "    }\n",
       "\n",
       "    .dataframe tbody tr th {\n",
       "        vertical-align: top;\n",
       "    }\n",
       "\n",
       "    .dataframe thead th {\n",
       "        text-align: right;\n",
       "    }\n",
       "</style>\n",
       "<table border=\"1\" class=\"dataframe\">\n",
       "  <thead>\n",
       "    <tr style=\"text-align: right;\">\n",
       "      <th></th>\n",
       "      <th>volatile acidity</th>\n",
       "      <th>total sulfur dioxide</th>\n",
       "      <th>density</th>\n",
       "      <th>sulphates</th>\n",
       "      <th>alcohol</th>\n",
       "    </tr>\n",
       "  </thead>\n",
       "  <tbody>\n",
       "    <tr>\n",
       "      <th>0</th>\n",
       "      <td>0.700</td>\n",
       "      <td>34.0</td>\n",
       "      <td>0.99780</td>\n",
       "      <td>0.56</td>\n",
       "      <td>9.4</td>\n",
       "    </tr>\n",
       "    <tr>\n",
       "      <th>1</th>\n",
       "      <td>0.880</td>\n",
       "      <td>67.0</td>\n",
       "      <td>0.99680</td>\n",
       "      <td>0.68</td>\n",
       "      <td>9.8</td>\n",
       "    </tr>\n",
       "    <tr>\n",
       "      <th>2</th>\n",
       "      <td>0.760</td>\n",
       "      <td>54.0</td>\n",
       "      <td>0.99700</td>\n",
       "      <td>0.65</td>\n",
       "      <td>9.8</td>\n",
       "    </tr>\n",
       "    <tr>\n",
       "      <th>3</th>\n",
       "      <td>0.280</td>\n",
       "      <td>60.0</td>\n",
       "      <td>0.99800</td>\n",
       "      <td>0.58</td>\n",
       "      <td>9.8</td>\n",
       "    </tr>\n",
       "    <tr>\n",
       "      <th>4</th>\n",
       "      <td>0.700</td>\n",
       "      <td>34.0</td>\n",
       "      <td>0.99780</td>\n",
       "      <td>0.56</td>\n",
       "      <td>9.4</td>\n",
       "    </tr>\n",
       "    <tr>\n",
       "      <th>...</th>\n",
       "      <td>...</td>\n",
       "      <td>...</td>\n",
       "      <td>...</td>\n",
       "      <td>...</td>\n",
       "      <td>...</td>\n",
       "    </tr>\n",
       "    <tr>\n",
       "      <th>1594</th>\n",
       "      <td>0.600</td>\n",
       "      <td>44.0</td>\n",
       "      <td>0.99490</td>\n",
       "      <td>0.58</td>\n",
       "      <td>10.5</td>\n",
       "    </tr>\n",
       "    <tr>\n",
       "      <th>1595</th>\n",
       "      <td>0.550</td>\n",
       "      <td>51.0</td>\n",
       "      <td>0.99512</td>\n",
       "      <td>0.76</td>\n",
       "      <td>11.2</td>\n",
       "    </tr>\n",
       "    <tr>\n",
       "      <th>1596</th>\n",
       "      <td>0.510</td>\n",
       "      <td>40.0</td>\n",
       "      <td>0.99574</td>\n",
       "      <td>0.75</td>\n",
       "      <td>11.0</td>\n",
       "    </tr>\n",
       "    <tr>\n",
       "      <th>1597</th>\n",
       "      <td>0.645</td>\n",
       "      <td>44.0</td>\n",
       "      <td>0.99547</td>\n",
       "      <td>0.71</td>\n",
       "      <td>10.2</td>\n",
       "    </tr>\n",
       "    <tr>\n",
       "      <th>1598</th>\n",
       "      <td>0.310</td>\n",
       "      <td>42.0</td>\n",
       "      <td>0.99549</td>\n",
       "      <td>0.66</td>\n",
       "      <td>11.0</td>\n",
       "    </tr>\n",
       "  </tbody>\n",
       "</table>\n",
       "<p>1599 rows × 5 columns</p>\n",
       "</div>"
      ],
      "text/plain": [
       "      volatile acidity  total sulfur dioxide  density  sulphates  alcohol\n",
       "0                0.700                  34.0  0.99780       0.56      9.4\n",
       "1                0.880                  67.0  0.99680       0.68      9.8\n",
       "2                0.760                  54.0  0.99700       0.65      9.8\n",
       "3                0.280                  60.0  0.99800       0.58      9.8\n",
       "4                0.700                  34.0  0.99780       0.56      9.4\n",
       "...                ...                   ...      ...        ...      ...\n",
       "1594             0.600                  44.0  0.99490       0.58     10.5\n",
       "1595             0.550                  51.0  0.99512       0.76     11.2\n",
       "1596             0.510                  40.0  0.99574       0.75     11.0\n",
       "1597             0.645                  44.0  0.99547       0.71     10.2\n",
       "1598             0.310                  42.0  0.99549       0.66     11.0\n",
       "\n",
       "[1599 rows x 5 columns]"
      ]
     },
     "execution_count": 117,
     "metadata": {},
     "output_type": "execute_result"
    }
   ],
   "source": [
    "#this are top five features having highest gain\n",
    "wine_df[data.get_feature_names_out()]"
   ]
  },
  {
   "cell_type": "markdown",
   "id": "b6bb7248",
   "metadata": {},
   "source": [
    "# METHOD-3"
   ]
  },
  {
   "cell_type": "markdown",
   "id": "9049f18e",
   "metadata": {},
   "source": [
    "# P-VALUE"
   ]
  },
  {
   "cell_type": "markdown",
   "id": "ffc2b4b2",
   "metadata": {},
   "source": [
    "- WE CAN DEVELOP ML MODEL WITH SKLEARN PACKAGE \n",
    "- OTHER ONE IS STATS PACKAGE"
   ]
  },
  {
   "cell_type": "markdown",
   "id": "23837485",
   "metadata": {},
   "source": [
    "- sklean\n",
    "  - it gives linearregression,mse,rmse,rsquare\n",
    "  - it wont give p-value\n",
    "- ststs\n",
    "  - this will give OLS,coefficient,rsquare\n",
    "  - it also gives p-value"
   ]
  },
  {
   "cell_type": "code",
   "execution_count": 1,
   "id": "a743254f",
   "metadata": {},
   "outputs": [],
   "source": [
    "from statsmodels.api import OLS"
   ]
  },
  {
   "cell_type": "code",
   "execution_count": 2,
   "id": "41beacb1",
   "metadata": {},
   "outputs": [
    {
     "ename": "NameError",
     "evalue": "name 'Y' is not defined",
     "output_type": "error",
     "traceback": [
      "\u001b[1;31m---------------------------------------------------------------------------\u001b[0m",
      "\u001b[1;31mNameError\u001b[0m                                 Traceback (most recent call last)",
      "Cell \u001b[1;32mIn[2], line 1\u001b[0m\n\u001b[1;32m----> 1\u001b[0m OLS(Y,X)\u001b[38;5;241m.\u001b[39mfit()\u001b[38;5;241m.\u001b[39msummary()\n",
      "\u001b[1;31mNameError\u001b[0m: name 'Y' is not defined"
     ]
    }
   ],
   "source": [
    "OLS(Y,X).fit().summary()"
   ]
  },
  {
   "cell_type": "markdown",
   "id": "5ea99b3f",
   "metadata": {},
   "source": [
    "- BY ABOVE TABLE\n",
    "- FOR ALPHA=0.05\n",
    "- AS WE KNOW P>ALPHA NOT-REQUECT THE NULLHYPOTHESIS\n",
    "- STATEMENT IS NO RELATION B/W O/P & I/P  VARABLE\n",
    "- THAT MEANS EXCLUDE THE FEATURE \n",
    "- BY ABOVE EXAMPLE\n",
    "- WE CAN REJECT fixed acidity,citric acid,residual sugar THIS 3 FEATURES"
   ]
  },
  {
   "cell_type": "markdown",
   "id": "bf6c9239",
   "metadata": {},
   "source": [
    "# METHOD-4"
   ]
  },
  {
   "cell_type": "markdown",
   "id": "a4e298fc",
   "metadata": {},
   "source": [
    "- VIF\n",
    "- vif gives weather input varables have multicolinearity between input varables \n",
    "- by using Rsquare logic\n",
    "- by keeping 1 varable as output and checking the relation\n",
    "- as alternativley repeating"
   ]
  },
  {
   "cell_type": "code",
   "execution_count": 120,
   "id": "bde5398d",
   "metadata": {},
   "outputs": [],
   "source": [
    "from statsmodels.stats.outliers_influence import variance_inflation_factor\n",
    "vif_df=pd.DataFrame()"
   ]
  },
  {
   "cell_type": "code",
   "execution_count": 121,
   "id": "2daadd4b",
   "metadata": {},
   "outputs": [],
   "source": [
    "# columns\n",
    "vif_df['featurs']=X.columns\n",
    "vif_df['VIF']=[variance_inflation_factor(X.values,i) for i in range(len(X.columns))]"
   ]
  },
  {
   "cell_type": "code",
   "execution_count": 122,
   "id": "71d3b84b",
   "metadata": {},
   "outputs": [
    {
     "data": {
      "text/html": [
       "<div>\n",
       "<style scoped>\n",
       "    .dataframe tbody tr th:only-of-type {\n",
       "        vertical-align: middle;\n",
       "    }\n",
       "\n",
       "    .dataframe tbody tr th {\n",
       "        vertical-align: top;\n",
       "    }\n",
       "\n",
       "    .dataframe thead th {\n",
       "        text-align: right;\n",
       "    }\n",
       "</style>\n",
       "<table border=\"1\" class=\"dataframe\">\n",
       "  <thead>\n",
       "    <tr style=\"text-align: right;\">\n",
       "      <th></th>\n",
       "      <th>featurs</th>\n",
       "      <th>VIF</th>\n",
       "    </tr>\n",
       "  </thead>\n",
       "  <tbody>\n",
       "    <tr>\n",
       "      <th>0</th>\n",
       "      <td>fixed acidity</td>\n",
       "      <td>74.452265</td>\n",
       "    </tr>\n",
       "    <tr>\n",
       "      <th>1</th>\n",
       "      <td>volatile acidity</td>\n",
       "      <td>17.060026</td>\n",
       "    </tr>\n",
       "    <tr>\n",
       "      <th>2</th>\n",
       "      <td>citric acid</td>\n",
       "      <td>9.183495</td>\n",
       "    </tr>\n",
       "    <tr>\n",
       "      <th>3</th>\n",
       "      <td>residual sugar</td>\n",
       "      <td>4.662992</td>\n",
       "    </tr>\n",
       "    <tr>\n",
       "      <th>4</th>\n",
       "      <td>chlorides</td>\n",
       "      <td>6.554877</td>\n",
       "    </tr>\n",
       "    <tr>\n",
       "      <th>5</th>\n",
       "      <td>free sulfur dioxide</td>\n",
       "      <td>6.442682</td>\n",
       "    </tr>\n",
       "    <tr>\n",
       "      <th>6</th>\n",
       "      <td>total sulfur dioxide</td>\n",
       "      <td>6.519699</td>\n",
       "    </tr>\n",
       "    <tr>\n",
       "      <th>7</th>\n",
       "      <td>density</td>\n",
       "      <td>1479.287209</td>\n",
       "    </tr>\n",
       "    <tr>\n",
       "      <th>8</th>\n",
       "      <td>pH</td>\n",
       "      <td>1070.967685</td>\n",
       "    </tr>\n",
       "    <tr>\n",
       "      <th>9</th>\n",
       "      <td>sulphates</td>\n",
       "      <td>21.590621</td>\n",
       "    </tr>\n",
       "    <tr>\n",
       "      <th>10</th>\n",
       "      <td>alcohol</td>\n",
       "      <td>124.394866</td>\n",
       "    </tr>\n",
       "  </tbody>\n",
       "</table>\n",
       "</div>"
      ],
      "text/plain": [
       "                 featurs          VIF\n",
       "0          fixed acidity    74.452265\n",
       "1       volatile acidity    17.060026\n",
       "2            citric acid     9.183495\n",
       "3         residual sugar     4.662992\n",
       "4              chlorides     6.554877\n",
       "5    free sulfur dioxide     6.442682\n",
       "6   total sulfur dioxide     6.519699\n",
       "7                density  1479.287209\n",
       "8                     pH  1070.967685\n",
       "9              sulphates    21.590621\n",
       "10               alcohol   124.394866"
      ]
     },
     "execution_count": 122,
     "metadata": {},
     "output_type": "execute_result"
    }
   ],
   "source": [
    "vif_df"
   ]
  },
  {
   "cell_type": "markdown",
   "id": "20ab672e",
   "metadata": {},
   "source": [
    "- GENERALLY WE SHOULD INCLUDE THE COLUMNS WHICH ARE HAVEING VIF<=10\n",
    "- 10 VIF REJECT THEM"
   ]
  },
  {
   "cell_type": "code",
   "execution_count": 123,
   "id": "b4e8bd09",
   "metadata": {},
   "outputs": [
    {
     "ename": "SyntaxError",
     "evalue": "invalid syntax (218896471.py, line 1)",
     "output_type": "error",
     "traceback": [
      "\u001b[1;36m  Cell \u001b[1;32mIn[123], line 1\u001b[1;36m\u001b[0m\n\u001b[1;33m    ================================================================================================================================\u001b[0m\n\u001b[1;37m    ^\u001b[0m\n\u001b[1;31mSyntaxError\u001b[0m\u001b[1;31m:\u001b[0m invalid syntax\n"
     ]
    }
   ],
   "source": [
    "================================================================================================================================"
   ]
  },
  {
   "cell_type": "markdown",
   "id": "a34db962",
   "metadata": {},
   "source": [
    "# 13-04-2024"
   ]
  },
  {
   "cell_type": "markdown",
   "id": "ad11042d",
   "metadata": {},
   "source": [
    "# SAVE THE MODEL"
   ]
  },
  {
   "cell_type": "markdown",
   "id": "8bd922c0",
   "metadata": {},
   "source": [
    "- AFTER THE MODEL IS READY WE NEED TO SAVE THE MODEL \n",
    "- HERE WE HAVE 2 METHODS\n",
    "- PICKLE\n",
    "- joblib"
   ]
  },
  {
   "cell_type": "markdown",
   "id": "58699871",
   "metadata": {},
   "source": [
    "- our ML model is == LR"
   ]
  },
  {
   "cell_type": "markdown",
   "id": "e36ff855",
   "metadata": {},
   "source": [
    "- PKL=METHOD\n",
    "- DUMP=USED TO DUMP THE MODEL\n",
    "- OPEN \n",
    "- Linear_regression_model.pkl== MODEL PKL.EXTENTATION\n",
    "- wb= WRITEING THE DATA"
   ]
  },
  {
   "cell_type": "code",
   "execution_count": 124,
   "id": "8714147e",
   "metadata": {},
   "outputs": [],
   "source": [
    "import pickle as pkl\n",
    "pkl.dump(LR,\n",
    "         open('Linear_regression_model.pkl','wb'))\n",
    "# now our model is ready now we can check this where our python file is existed"
   ]
  },
  {
   "cell_type": "markdown",
   "id": "581a0d9d",
   "metadata": {},
   "source": [
    "- NOW THIS MODEL WE CAN SHARE WITH ANY ONE"
   ]
  },
  {
   "cell_type": "markdown",
   "id": "9aa05984",
   "metadata": {},
   "source": [
    "- HOW TO UPLOAD THE MODEL"
   ]
  },
  {
   "cell_type": "code",
   "execution_count": 125,
   "id": "a2513e2b",
   "metadata": {},
   "outputs": [
    {
     "data": {
      "text/html": [
       "<style>#sk-container-id-6 {color: black;}#sk-container-id-6 pre{padding: 0;}#sk-container-id-6 div.sk-toggleable {background-color: white;}#sk-container-id-6 label.sk-toggleable__label {cursor: pointer;display: block;width: 100%;margin-bottom: 0;padding: 0.3em;box-sizing: border-box;text-align: center;}#sk-container-id-6 label.sk-toggleable__label-arrow:before {content: \"▸\";float: left;margin-right: 0.25em;color: #696969;}#sk-container-id-6 label.sk-toggleable__label-arrow:hover:before {color: black;}#sk-container-id-6 div.sk-estimator:hover label.sk-toggleable__label-arrow:before {color: black;}#sk-container-id-6 div.sk-toggleable__content {max-height: 0;max-width: 0;overflow: hidden;text-align: left;background-color: #f0f8ff;}#sk-container-id-6 div.sk-toggleable__content pre {margin: 0.2em;color: black;border-radius: 0.25em;background-color: #f0f8ff;}#sk-container-id-6 input.sk-toggleable__control:checked~div.sk-toggleable__content {max-height: 200px;max-width: 100%;overflow: auto;}#sk-container-id-6 input.sk-toggleable__control:checked~label.sk-toggleable__label-arrow:before {content: \"▾\";}#sk-container-id-6 div.sk-estimator input.sk-toggleable__control:checked~label.sk-toggleable__label {background-color: #d4ebff;}#sk-container-id-6 div.sk-label input.sk-toggleable__control:checked~label.sk-toggleable__label {background-color: #d4ebff;}#sk-container-id-6 input.sk-hidden--visually {border: 0;clip: rect(1px 1px 1px 1px);clip: rect(1px, 1px, 1px, 1px);height: 1px;margin: -1px;overflow: hidden;padding: 0;position: absolute;width: 1px;}#sk-container-id-6 div.sk-estimator {font-family: monospace;background-color: #f0f8ff;border: 1px dotted black;border-radius: 0.25em;box-sizing: border-box;margin-bottom: 0.5em;}#sk-container-id-6 div.sk-estimator:hover {background-color: #d4ebff;}#sk-container-id-6 div.sk-parallel-item::after {content: \"\";width: 100%;border-bottom: 1px solid gray;flex-grow: 1;}#sk-container-id-6 div.sk-label:hover label.sk-toggleable__label {background-color: #d4ebff;}#sk-container-id-6 div.sk-serial::before {content: \"\";position: absolute;border-left: 1px solid gray;box-sizing: border-box;top: 0;bottom: 0;left: 50%;z-index: 0;}#sk-container-id-6 div.sk-serial {display: flex;flex-direction: column;align-items: center;background-color: white;padding-right: 0.2em;padding-left: 0.2em;position: relative;}#sk-container-id-6 div.sk-item {position: relative;z-index: 1;}#sk-container-id-6 div.sk-parallel {display: flex;align-items: stretch;justify-content: center;background-color: white;position: relative;}#sk-container-id-6 div.sk-item::before, #sk-container-id-6 div.sk-parallel-item::before {content: \"\";position: absolute;border-left: 1px solid gray;box-sizing: border-box;top: 0;bottom: 0;left: 50%;z-index: -1;}#sk-container-id-6 div.sk-parallel-item {display: flex;flex-direction: column;z-index: 1;position: relative;background-color: white;}#sk-container-id-6 div.sk-parallel-item:first-child::after {align-self: flex-end;width: 50%;}#sk-container-id-6 div.sk-parallel-item:last-child::after {align-self: flex-start;width: 50%;}#sk-container-id-6 div.sk-parallel-item:only-child::after {width: 0;}#sk-container-id-6 div.sk-dashed-wrapped {border: 1px dashed gray;margin: 0 0.4em 0.5em 0.4em;box-sizing: border-box;padding-bottom: 0.4em;background-color: white;}#sk-container-id-6 div.sk-label label {font-family: monospace;font-weight: bold;display: inline-block;line-height: 1.2em;}#sk-container-id-6 div.sk-label-container {text-align: center;}#sk-container-id-6 div.sk-container {/* jupyter's `normalize.less` sets `[hidden] { display: none; }` but bootstrap.min.css set `[hidden] { display: none !important; }` so we also need the `!important` here to be able to override the default hidden behavior on the sphinx rendered scikit-learn.org. See: https://github.com/scikit-learn/scikit-learn/issues/21755 */display: inline-block !important;position: relative;}#sk-container-id-6 div.sk-text-repr-fallback {display: none;}</style><div id=\"sk-container-id-6\" class=\"sk-top-container\"><div class=\"sk-text-repr-fallback\"><pre>LinearRegression()</pre><b>In a Jupyter environment, please rerun this cell to show the HTML representation or trust the notebook. <br />On GitHub, the HTML representation is unable to render, please try loading this page with nbviewer.org.</b></div><div class=\"sk-container\" hidden><div class=\"sk-item\"><div class=\"sk-estimator sk-toggleable\"><input class=\"sk-toggleable__control sk-hidden--visually\" id=\"sk-estimator-id-6\" type=\"checkbox\" checked><label for=\"sk-estimator-id-6\" class=\"sk-toggleable__label sk-toggleable__label-arrow\">LinearRegression</label><div class=\"sk-toggleable__content\"><pre>LinearRegression()</pre></div></div></div></div></div>"
      ],
      "text/plain": [
       "LinearRegression()"
      ]
     },
     "execution_count": 125,
     "metadata": {},
     "output_type": "execute_result"
    }
   ],
   "source": [
    "model=pkl.load(open('Linear_regression_model.pkl','rb'))\n",
    "model"
   ]
  },
  {
   "cell_type": "markdown",
   "id": "72c3eea1",
   "metadata": {},
   "source": [
    "- NOW ASSUME THAT I WAS A CLIENT \n",
    "- MODEL IS REDAY WHICH WAS PREPARED BY OMKAR SIR\n",
    "- NOW I NEED TO LOAD THE MODEL AND APPLY THE X_TEST DATA"
   ]
  },
  {
   "cell_type": "code",
   "execution_count": 126,
   "id": "81f7562a",
   "metadata": {},
   "outputs": [],
   "source": [
    "# READ THE TEST DATA"
   ]
  },
  {
   "cell_type": "code",
   "execution_count": 127,
   "id": "b5a37672",
   "metadata": {},
   "outputs": [],
   "source": [
    "test_df=pd.read_csv(r'C:\\Users\\kragh\\OneDrive\\DATA SCIENCE NIT\\Data Files\\test.csv')"
   ]
  },
  {
   "cell_type": "code",
   "execution_count": 128,
   "id": "2040b93d",
   "metadata": {},
   "outputs": [
    {
     "data": {
      "text/html": [
       "<div>\n",
       "<style scoped>\n",
       "    .dataframe tbody tr th:only-of-type {\n",
       "        vertical-align: middle;\n",
       "    }\n",
       "\n",
       "    .dataframe tbody tr th {\n",
       "        vertical-align: top;\n",
       "    }\n",
       "\n",
       "    .dataframe thead th {\n",
       "        text-align: right;\n",
       "    }\n",
       "</style>\n",
       "<table border=\"1\" class=\"dataframe\">\n",
       "  <thead>\n",
       "    <tr style=\"text-align: right;\">\n",
       "      <th></th>\n",
       "      <th>fixed acidity</th>\n",
       "      <th>volatile acidity</th>\n",
       "      <th>citric acid</th>\n",
       "      <th>residual sugar</th>\n",
       "      <th>chlorides</th>\n",
       "      <th>free sulfur dioxide</th>\n",
       "      <th>total sulfur dioxide</th>\n",
       "      <th>density</th>\n",
       "      <th>pH</th>\n",
       "      <th>sulphates</th>\n",
       "      <th>alcohol</th>\n",
       "    </tr>\n",
       "  </thead>\n",
       "  <tbody>\n",
       "    <tr>\n",
       "      <th>0</th>\n",
       "      <td>7.7</td>\n",
       "      <td>0.66</td>\n",
       "      <td>0.04</td>\n",
       "      <td>1.6</td>\n",
       "      <td>0.039</td>\n",
       "      <td>4.0</td>\n",
       "      <td>9.0</td>\n",
       "      <td>0.99620</td>\n",
       "      <td>3.40</td>\n",
       "      <td>0.47</td>\n",
       "      <td>9.4</td>\n",
       "    </tr>\n",
       "    <tr>\n",
       "      <th>1</th>\n",
       "      <td>7.1</td>\n",
       "      <td>0.56</td>\n",
       "      <td>0.14</td>\n",
       "      <td>1.6</td>\n",
       "      <td>0.078</td>\n",
       "      <td>7.0</td>\n",
       "      <td>18.0</td>\n",
       "      <td>0.99592</td>\n",
       "      <td>3.27</td>\n",
       "      <td>0.62</td>\n",
       "      <td>9.3</td>\n",
       "    </tr>\n",
       "    <tr>\n",
       "      <th>2</th>\n",
       "      <td>8.1</td>\n",
       "      <td>0.72</td>\n",
       "      <td>0.09</td>\n",
       "      <td>2.8</td>\n",
       "      <td>0.084</td>\n",
       "      <td>18.0</td>\n",
       "      <td>49.0</td>\n",
       "      <td>0.99940</td>\n",
       "      <td>3.43</td>\n",
       "      <td>0.72</td>\n",
       "      <td>11.1</td>\n",
       "    </tr>\n",
       "  </tbody>\n",
       "</table>\n",
       "</div>"
      ],
      "text/plain": [
       "   fixed acidity  volatile acidity  citric acid  residual sugar  chlorides  \\\n",
       "0            7.7              0.66         0.04             1.6      0.039   \n",
       "1            7.1              0.56         0.14             1.6      0.078   \n",
       "2            8.1              0.72         0.09             2.8      0.084   \n",
       "\n",
       "   free sulfur dioxide  total sulfur dioxide  density    pH  sulphates  \\\n",
       "0                  4.0                   9.0  0.99620  3.40       0.47   \n",
       "1                  7.0                  18.0  0.99592  3.27       0.62   \n",
       "2                 18.0                  49.0  0.99940  3.43       0.72   \n",
       "\n",
       "   alcohol  \n",
       "0      9.4  \n",
       "1      9.3  \n",
       "2     11.1  "
      ]
     },
     "execution_count": 128,
     "metadata": {},
     "output_type": "execute_result"
    }
   ],
   "source": [
    "test_df.head(3)"
   ]
  },
  {
   "cell_type": "code",
   "execution_count": 129,
   "id": "67441698",
   "metadata": {},
   "outputs": [],
   "source": [
    "# load the model"
   ]
  },
  {
   "cell_type": "code",
   "execution_count": 130,
   "id": "26779994",
   "metadata": {},
   "outputs": [],
   "source": [
    "import pickle as pkl\n",
    "MODEL=pkl.load(open(r'C:\\Users\\kragh\\OneDrive\\Desktop\\Linear_regression_wine_with_flask\\Linear_regression_with_flask\\linear_wine_model.pkl','rb'))"
   ]
  },
  {
   "cell_type": "code",
   "execution_count": 131,
   "id": "7bcd9796",
   "metadata": {},
   "outputs": [],
   "source": [
    "# PREDICT\n",
    "Y_per=MODEL.predict(test_df)"
   ]
  },
  {
   "cell_type": "code",
   "execution_count": 132,
   "id": "86489f93",
   "metadata": {},
   "outputs": [
    {
     "data": {
      "text/plain": [
       "array([5.15272674, 5.32546327, 5.63662519, 5.51245819, 6.35588496,\n",
       "       5.39028618, 5.37580837, 5.94379165, 5.49446987, 6.98211458,\n",
       "       4.92847919, 5.18177228, 5.73271386, 5.56085417, 5.53985028,\n",
       "       5.25272042, 4.93424659, 5.12423646, 6.27626835, 5.12589226,\n",
       "       5.06691612, 5.91039778, 5.1797551 , 5.45854364, 5.72531378,\n",
       "       6.31002431, 5.30913419, 5.50678991, 6.04808131, 5.47609822,\n",
       "       4.72291628, 6.20818055, 5.21920961, 5.62421184, 5.55062526,\n",
       "       5.52259916, 6.36735043, 5.23288886, 5.49938736, 5.80792898,\n",
       "       5.16587916, 6.13318292, 5.72636822, 5.33537114, 5.63701918,\n",
       "       4.96463531, 4.88029661, 5.78938553, 6.36333952, 5.56149953,\n",
       "       4.95005899, 5.75085354, 6.67236186, 6.16951277, 5.34056761,\n",
       "       5.12096361, 6.19641543, 5.21584694, 6.46449078, 5.25590493,\n",
       "       5.27667097, 5.17871421, 5.09122333, 5.63083824, 5.01946398,\n",
       "       6.16336001, 5.7427919 , 6.337122  , 5.28732968, 6.05063646,\n",
       "       5.7342916 , 5.57340483, 5.21043842, 6.18633591, 5.50678991,\n",
       "       5.3453067 , 5.99997768, 6.51564794, 4.85375662, 5.04018732,\n",
       "       5.72499592, 5.59626211, 5.73949584, 5.95489086, 5.34697269,\n",
       "       4.99839179, 6.13681154, 5.32302661, 6.01068016, 6.12678637,\n",
       "       6.52768314, 5.39538409, 5.9974906 , 4.99004327, 5.44790697,\n",
       "       5.86843828, 5.26806983, 6.65075932, 6.61072464, 5.99997768,\n",
       "       5.37579844, 5.48785095, 4.94241599, 5.53013394, 5.51054593,\n",
       "       5.25914217, 5.89858025, 5.16978949, 5.40527552, 5.44913755,\n",
       "       6.38388834, 5.54138872, 6.22755065, 5.35050741, 5.55565805,\n",
       "       5.69996464, 5.35611312, 5.91795566, 6.84295266, 5.21736143,\n",
       "       5.93685756, 6.02728227, 5.65516136, 6.33585096, 6.11727608,\n",
       "       5.10631555, 5.21930664, 6.51527783, 6.29685541, 6.23764222,\n",
       "       5.2792288 , 5.03871695, 5.88172061, 5.0851889 , 5.27738598,\n",
       "       6.35828943, 5.89939941, 5.45905811, 5.41928796, 5.57217489,\n",
       "       5.93356169, 4.83777751, 5.43045252, 5.14580263, 5.75145727,\n",
       "       5.77227893, 5.20511824, 6.22744476, 6.15111159, 5.37199058,\n",
       "       5.43837324, 5.77768114, 6.61866538, 6.74493635, 5.99429439,\n",
       "       5.77421449, 5.71445701, 5.63158268, 6.53617359, 5.61226567,\n",
       "       6.41524291, 5.85713158, 6.03657959, 5.36589905, 5.79504901,\n",
       "       6.15045308, 5.34746564, 4.18492552, 5.78179004, 5.9409628 ,\n",
       "       4.87152252, 5.75689927, 4.97026015, 5.74576868, 6.55745611,\n",
       "       6.04292031, 5.32973134, 5.52682185, 5.71987688, 4.93131525,\n",
       "       6.04719996, 5.20606774, 5.85001588, 6.56279324, 5.22784496,\n",
       "       5.13583528, 6.49406669, 6.67080913, 5.86790849, 6.22543582,\n",
       "       5.99898464, 5.48676406, 4.68758173, 6.42891816, 5.3780084 ,\n",
       "       4.72596428, 5.35624776, 6.98166918, 5.30720706, 5.01009976,\n",
       "       5.9095069 , 5.89788367, 5.74541352, 4.97661924, 6.64061995,\n",
       "       5.56824532, 5.88970167, 5.10254921, 5.03266072, 4.78859962,\n",
       "       5.66137988, 5.01756041, 5.70331509, 5.08378929, 5.91679978,\n",
       "       6.69986908, 5.31928286, 5.34669749, 5.31734828, 5.6188404 ,\n",
       "       5.6103356 , 5.88657821, 4.82255134, 5.47617034, 5.82141836,\n",
       "       4.96924459, 5.45555462, 6.15466593, 5.60961275, 5.97937907,\n",
       "       6.29141847, 5.49532602, 5.7427919 , 5.02129556, 5.42567123,\n",
       "       5.30376592, 6.44506134, 5.79457654, 5.85840874, 6.40681931,\n",
       "       5.23356207, 5.09446531, 6.29040996, 5.23133575, 5.20440993,\n",
       "       4.91613205, 4.85264526, 5.77402591, 6.44998907, 6.27228383,\n",
       "       5.66752455, 5.77214065, 6.2457379 , 5.01756041, 5.88530413,\n",
       "       5.46922842, 5.31254547, 5.16197206, 5.84930403, 5.45790288,\n",
       "       5.45284814, 5.0309555 , 6.11126538, 6.39353084, 5.95035988,\n",
       "       6.16294412, 6.11799254, 5.859645  , 5.32664826, 5.34056761,\n",
       "       5.06423962, 5.32051406, 5.43624309, 5.33971951, 5.58178758,\n",
       "       5.75588456, 6.04024883, 4.91167335, 5.60170434, 5.32877713,\n",
       "       6.22983414, 5.89614721, 5.93360527, 5.39888101, 5.2739361 ,\n",
       "       5.73794177, 5.86555862, 5.03944697, 5.32346217, 5.74101128,\n",
       "       6.40284138, 5.96305686, 4.93108229, 5.90456997, 5.71279268,\n",
       "       5.61244954, 5.14567686, 5.36421345, 4.96924459, 5.38200614,\n",
       "       5.93259413, 6.61817345, 5.9401426 , 5.09222651, 6.59461735,\n",
       "       6.37818219, 5.76677648, 5.00550284, 5.6642651 , 5.09132685,\n",
       "       5.35617409, 5.0856266 , 5.76205873, 5.58353651, 6.11360811,\n",
       "       5.26670428, 5.1502229 , 6.35872853, 5.78881572, 5.12077223,\n",
       "       6.20379015, 5.12846456, 5.245733  , 5.62421184, 5.33216794,\n",
       "       4.63391647, 6.67080913, 5.30197384, 6.07737771, 5.08945872,\n",
       "       6.3404451 , 5.00101501, 5.76082175, 4.78681399, 5.43540031,\n",
       "       5.5933712 , 5.20854044, 5.53965055, 5.51286652, 6.09119691,\n",
       "       6.89645836, 6.5818963 , 6.51616813, 6.7389971 , 5.13583528,\n",
       "       5.04542379, 5.55565805, 5.81421595, 5.8596704 , 5.5371316 ,\n",
       "       5.52159867, 6.08766214, 5.33673345, 5.21641764, 5.5881843 ,\n",
       "       4.83649958, 6.54755782, 6.15975664, 5.18758997, 5.543044  ,\n",
       "       6.37948308, 5.27430664, 5.41978692, 5.95011166, 6.15443962,\n",
       "       5.43156985, 5.17851884, 5.71776488, 5.31049826, 6.29287608,\n",
       "       5.16405155, 5.51987093, 5.94985843, 5.45261618, 6.1957446 ,\n",
       "       6.22450256, 6.34398536, 5.02138294, 5.08230935, 5.63470779,\n",
       "       5.75689927, 5.56268525, 4.61066841, 5.6356401 , 5.91613694,\n",
       "       4.96621268, 5.10918278, 5.66306872, 4.79517341, 5.79608951,\n",
       "       6.11360811, 6.23317938, 5.15817553, 5.66531897, 5.37580837,\n",
       "       5.25189877, 6.5720807 , 5.24409385, 5.55140543, 6.45336013,\n",
       "       6.40942246, 4.83234267, 5.30326782, 4.96473992, 7.52775146,\n",
       "       5.42951778, 6.38524949, 6.37419061, 6.63801798, 6.05922706,\n",
       "       5.73767049, 6.03642831, 4.83223993, 6.24020332, 5.72479784,\n",
       "       5.18607442, 5.05450429, 5.11697949, 5.13412713, 5.52440323,\n",
       "       5.64867525, 4.98224538, 6.09363224, 5.44051117, 5.81230694,\n",
       "       5.46789186, 4.55788622, 6.4346495 , 6.83493526, 5.55577486,\n",
       "       5.78380845, 6.26550268, 5.16451239, 5.64312174, 5.19935697,\n",
       "       6.36699511, 4.96641745, 5.86934155, 5.76462945, 6.36547688,\n",
       "       5.57273104, 5.67822167, 5.3098559 , 5.32346217, 5.80379403,\n",
       "       5.05273644, 4.89716249, 4.94106077, 4.39448333, 5.35399193,\n",
       "       5.95011166, 5.47056853, 5.09916641, 6.15419278, 5.32886401,\n",
       "       5.55946617, 6.39503255, 5.51496826, 5.09226489, 5.98738087,\n",
       "       6.16951277, 5.66535961, 4.85264526, 5.32570564, 6.08694216,\n",
       "       5.71886682, 6.18670867, 5.16933689, 5.47617034, 5.1985077 ,\n",
       "       5.37466118, 5.4969461 , 5.11061722, 5.07457111, 6.43458746,\n",
       "       5.16307079, 5.55639097, 6.16741756, 5.27142375, 5.67409146])"
      ]
     },
     "execution_count": 132,
     "metadata": {},
     "output_type": "execute_result"
    }
   ],
   "source": [
    "Y_per"
   ]
  },
  {
   "cell_type": "code",
   "execution_count": 139,
   "id": "3ff9eb18",
   "metadata": {},
   "outputs": [
    {
     "data": {
      "text/html": [
       "<div>\n",
       "<style scoped>\n",
       "    .dataframe tbody tr th:only-of-type {\n",
       "        vertical-align: middle;\n",
       "    }\n",
       "\n",
       "    .dataframe tbody tr th {\n",
       "        vertical-align: top;\n",
       "    }\n",
       "\n",
       "    .dataframe thead th {\n",
       "        text-align: right;\n",
       "    }\n",
       "</style>\n",
       "<table border=\"1\" class=\"dataframe\">\n",
       "  <thead>\n",
       "    <tr style=\"text-align: right;\">\n",
       "      <th></th>\n",
       "      <th>fixed acidity</th>\n",
       "      <th>volatile acidity</th>\n",
       "      <th>citric acid</th>\n",
       "      <th>residual sugar</th>\n",
       "      <th>chlorides</th>\n",
       "      <th>free sulfur dioxide</th>\n",
       "      <th>total sulfur dioxide</th>\n",
       "      <th>density</th>\n",
       "      <th>pH</th>\n",
       "      <th>sulphates</th>\n",
       "      <th>alcohol</th>\n",
       "    </tr>\n",
       "  </thead>\n",
       "  <tbody>\n",
       "    <tr>\n",
       "      <th>1526</th>\n",
       "      <td>6.8</td>\n",
       "      <td>0.47</td>\n",
       "      <td>0.08</td>\n",
       "      <td>2.2</td>\n",
       "      <td>0.064</td>\n",
       "      <td>18.0</td>\n",
       "      <td>38.0</td>\n",
       "      <td>0.99553</td>\n",
       "      <td>3.30</td>\n",
       "      <td>0.65</td>\n",
       "      <td>9.6</td>\n",
       "    </tr>\n",
       "    <tr>\n",
       "      <th>674</th>\n",
       "      <td>10.8</td>\n",
       "      <td>0.40</td>\n",
       "      <td>0.41</td>\n",
       "      <td>2.2</td>\n",
       "      <td>0.084</td>\n",
       "      <td>7.0</td>\n",
       "      <td>17.0</td>\n",
       "      <td>0.99840</td>\n",
       "      <td>3.08</td>\n",
       "      <td>0.67</td>\n",
       "      <td>9.3</td>\n",
       "    </tr>\n",
       "    <tr>\n",
       "      <th>1508</th>\n",
       "      <td>7.1</td>\n",
       "      <td>0.27</td>\n",
       "      <td>0.60</td>\n",
       "      <td>2.1</td>\n",
       "      <td>0.074</td>\n",
       "      <td>17.0</td>\n",
       "      <td>25.0</td>\n",
       "      <td>0.99814</td>\n",
       "      <td>3.38</td>\n",
       "      <td>0.72</td>\n",
       "      <td>10.6</td>\n",
       "    </tr>\n",
       "    <tr>\n",
       "      <th>58</th>\n",
       "      <td>7.8</td>\n",
       "      <td>0.59</td>\n",
       "      <td>0.18</td>\n",
       "      <td>2.3</td>\n",
       "      <td>0.076</td>\n",
       "      <td>17.0</td>\n",
       "      <td>54.0</td>\n",
       "      <td>0.99750</td>\n",
       "      <td>3.43</td>\n",
       "      <td>0.59</td>\n",
       "      <td>10.0</td>\n",
       "    </tr>\n",
       "    <tr>\n",
       "      <th>1351</th>\n",
       "      <td>7.2</td>\n",
       "      <td>0.62</td>\n",
       "      <td>0.01</td>\n",
       "      <td>2.3</td>\n",
       "      <td>0.065</td>\n",
       "      <td>8.0</td>\n",
       "      <td>46.0</td>\n",
       "      <td>0.99332</td>\n",
       "      <td>3.32</td>\n",
       "      <td>0.51</td>\n",
       "      <td>11.8</td>\n",
       "    </tr>\n",
       "    <tr>\n",
       "      <th>...</th>\n",
       "      <td>...</td>\n",
       "      <td>...</td>\n",
       "      <td>...</td>\n",
       "      <td>...</td>\n",
       "      <td>...</td>\n",
       "      <td>...</td>\n",
       "      <td>...</td>\n",
       "      <td>...</td>\n",
       "      <td>...</td>\n",
       "      <td>...</td>\n",
       "      <td>...</td>\n",
       "    </tr>\n",
       "    <tr>\n",
       "      <th>125</th>\n",
       "      <td>9.0</td>\n",
       "      <td>0.62</td>\n",
       "      <td>0.04</td>\n",
       "      <td>1.9</td>\n",
       "      <td>0.146</td>\n",
       "      <td>27.0</td>\n",
       "      <td>90.0</td>\n",
       "      <td>0.99840</td>\n",
       "      <td>3.16</td>\n",
       "      <td>0.70</td>\n",
       "      <td>9.4</td>\n",
       "    </tr>\n",
       "    <tr>\n",
       "      <th>540</th>\n",
       "      <td>9.2</td>\n",
       "      <td>0.59</td>\n",
       "      <td>0.24</td>\n",
       "      <td>3.3</td>\n",
       "      <td>0.101</td>\n",
       "      <td>20.0</td>\n",
       "      <td>47.0</td>\n",
       "      <td>0.99880</td>\n",
       "      <td>3.26</td>\n",
       "      <td>0.67</td>\n",
       "      <td>9.6</td>\n",
       "    </tr>\n",
       "    <tr>\n",
       "      <th>1162</th>\n",
       "      <td>8.5</td>\n",
       "      <td>0.32</td>\n",
       "      <td>0.42</td>\n",
       "      <td>2.3</td>\n",
       "      <td>0.075</td>\n",
       "      <td>12.0</td>\n",
       "      <td>19.0</td>\n",
       "      <td>0.99434</td>\n",
       "      <td>3.14</td>\n",
       "      <td>0.71</td>\n",
       "      <td>11.8</td>\n",
       "    </tr>\n",
       "    <tr>\n",
       "      <th>1203</th>\n",
       "      <td>9.9</td>\n",
       "      <td>0.74</td>\n",
       "      <td>0.19</td>\n",
       "      <td>5.8</td>\n",
       "      <td>0.111</td>\n",
       "      <td>33.0</td>\n",
       "      <td>76.0</td>\n",
       "      <td>0.99878</td>\n",
       "      <td>3.14</td>\n",
       "      <td>0.55</td>\n",
       "      <td>9.4</td>\n",
       "    </tr>\n",
       "    <tr>\n",
       "      <th>813</th>\n",
       "      <td>6.9</td>\n",
       "      <td>0.39</td>\n",
       "      <td>0.24</td>\n",
       "      <td>2.1</td>\n",
       "      <td>0.102</td>\n",
       "      <td>4.0</td>\n",
       "      <td>7.0</td>\n",
       "      <td>0.99462</td>\n",
       "      <td>3.44</td>\n",
       "      <td>0.58</td>\n",
       "      <td>11.4</td>\n",
       "    </tr>\n",
       "  </tbody>\n",
       "</table>\n",
       "<p>480 rows × 11 columns</p>\n",
       "</div>"
      ],
      "text/plain": [
       "      fixed acidity  volatile acidity  citric acid  residual sugar  chlorides  \\\n",
       "1526            6.8              0.47         0.08             2.2      0.064   \n",
       "674            10.8              0.40         0.41             2.2      0.084   \n",
       "1508            7.1              0.27         0.60             2.1      0.074   \n",
       "58              7.8              0.59         0.18             2.3      0.076   \n",
       "1351            7.2              0.62         0.01             2.3      0.065   \n",
       "...             ...               ...          ...             ...        ...   \n",
       "125             9.0              0.62         0.04             1.9      0.146   \n",
       "540             9.2              0.59         0.24             3.3      0.101   \n",
       "1162            8.5              0.32         0.42             2.3      0.075   \n",
       "1203            9.9              0.74         0.19             5.8      0.111   \n",
       "813             6.9              0.39         0.24             2.1      0.102   \n",
       "\n",
       "      free sulfur dioxide  total sulfur dioxide  density    pH  sulphates  \\\n",
       "1526                 18.0                  38.0  0.99553  3.30       0.65   \n",
       "674                   7.0                  17.0  0.99840  3.08       0.67   \n",
       "1508                 17.0                  25.0  0.99814  3.38       0.72   \n",
       "58                   17.0                  54.0  0.99750  3.43       0.59   \n",
       "1351                  8.0                  46.0  0.99332  3.32       0.51   \n",
       "...                   ...                   ...      ...   ...        ...   \n",
       "125                  27.0                  90.0  0.99840  3.16       0.70   \n",
       "540                  20.0                  47.0  0.99880  3.26       0.67   \n",
       "1162                 12.0                  19.0  0.99434  3.14       0.71   \n",
       "1203                 33.0                  76.0  0.99878  3.14       0.55   \n",
       "813                   4.0                   7.0  0.99462  3.44       0.58   \n",
       "\n",
       "      alcohol  \n",
       "1526      9.6  \n",
       "674       9.3  \n",
       "1508     10.6  \n",
       "58       10.0  \n",
       "1351     11.8  \n",
       "...       ...  \n",
       "125       9.4  \n",
       "540       9.6  \n",
       "1162     11.8  \n",
       "1203      9.4  \n",
       "813      11.4  \n",
       "\n",
       "[480 rows x 11 columns]"
      ]
     },
     "execution_count": 139,
     "metadata": {},
     "output_type": "execute_result"
    }
   ],
   "source": [
    "x_test"
   ]
  },
  {
   "cell_type": "code",
   "execution_count": 143,
   "id": "7d477f45",
   "metadata": {},
   "outputs": [],
   "source": [
    "x_test.to_csv('test_data_winedf.csv',index=False)"
   ]
  },
  {
   "cell_type": "code",
   "execution_count": 145,
   "id": "2dda8403",
   "metadata": {},
   "outputs": [
    {
     "data": {
      "text/html": [
       "<div>\n",
       "<style scoped>\n",
       "    .dataframe tbody tr th:only-of-type {\n",
       "        vertical-align: middle;\n",
       "    }\n",
       "\n",
       "    .dataframe tbody tr th {\n",
       "        vertical-align: top;\n",
       "    }\n",
       "\n",
       "    .dataframe thead th {\n",
       "        text-align: right;\n",
       "    }\n",
       "</style>\n",
       "<table border=\"1\" class=\"dataframe\">\n",
       "  <thead>\n",
       "    <tr style=\"text-align: right;\">\n",
       "      <th></th>\n",
       "      <th>fixed acidity</th>\n",
       "      <th>volatile acidity</th>\n",
       "      <th>citric acid</th>\n",
       "      <th>residual sugar</th>\n",
       "      <th>chlorides</th>\n",
       "      <th>free sulfur dioxide</th>\n",
       "      <th>total sulfur dioxide</th>\n",
       "      <th>density</th>\n",
       "      <th>pH</th>\n",
       "      <th>sulphates</th>\n",
       "      <th>alcohol</th>\n",
       "    </tr>\n",
       "  </thead>\n",
       "  <tbody>\n",
       "    <tr>\n",
       "      <th>0</th>\n",
       "      <td>6.8</td>\n",
       "      <td>0.47</td>\n",
       "      <td>0.08</td>\n",
       "      <td>2.2</td>\n",
       "      <td>0.064</td>\n",
       "      <td>18.0</td>\n",
       "      <td>38.0</td>\n",
       "      <td>0.99553</td>\n",
       "      <td>3.30</td>\n",
       "      <td>0.65</td>\n",
       "      <td>9.6</td>\n",
       "    </tr>\n",
       "    <tr>\n",
       "      <th>1</th>\n",
       "      <td>10.8</td>\n",
       "      <td>0.40</td>\n",
       "      <td>0.41</td>\n",
       "      <td>2.2</td>\n",
       "      <td>0.084</td>\n",
       "      <td>7.0</td>\n",
       "      <td>17.0</td>\n",
       "      <td>0.99840</td>\n",
       "      <td>3.08</td>\n",
       "      <td>0.67</td>\n",
       "      <td>9.3</td>\n",
       "    </tr>\n",
       "    <tr>\n",
       "      <th>2</th>\n",
       "      <td>7.1</td>\n",
       "      <td>0.27</td>\n",
       "      <td>0.60</td>\n",
       "      <td>2.1</td>\n",
       "      <td>0.074</td>\n",
       "      <td>17.0</td>\n",
       "      <td>25.0</td>\n",
       "      <td>0.99814</td>\n",
       "      <td>3.38</td>\n",
       "      <td>0.72</td>\n",
       "      <td>10.6</td>\n",
       "    </tr>\n",
       "    <tr>\n",
       "      <th>3</th>\n",
       "      <td>7.8</td>\n",
       "      <td>0.59</td>\n",
       "      <td>0.18</td>\n",
       "      <td>2.3</td>\n",
       "      <td>0.076</td>\n",
       "      <td>17.0</td>\n",
       "      <td>54.0</td>\n",
       "      <td>0.99750</td>\n",
       "      <td>3.43</td>\n",
       "      <td>0.59</td>\n",
       "      <td>10.0</td>\n",
       "    </tr>\n",
       "    <tr>\n",
       "      <th>4</th>\n",
       "      <td>7.2</td>\n",
       "      <td>0.62</td>\n",
       "      <td>0.01</td>\n",
       "      <td>2.3</td>\n",
       "      <td>0.065</td>\n",
       "      <td>8.0</td>\n",
       "      <td>46.0</td>\n",
       "      <td>0.99332</td>\n",
       "      <td>3.32</td>\n",
       "      <td>0.51</td>\n",
       "      <td>11.8</td>\n",
       "    </tr>\n",
       "    <tr>\n",
       "      <th>...</th>\n",
       "      <td>...</td>\n",
       "      <td>...</td>\n",
       "      <td>...</td>\n",
       "      <td>...</td>\n",
       "      <td>...</td>\n",
       "      <td>...</td>\n",
       "      <td>...</td>\n",
       "      <td>...</td>\n",
       "      <td>...</td>\n",
       "      <td>...</td>\n",
       "      <td>...</td>\n",
       "    </tr>\n",
       "    <tr>\n",
       "      <th>475</th>\n",
       "      <td>9.0</td>\n",
       "      <td>0.62</td>\n",
       "      <td>0.04</td>\n",
       "      <td>1.9</td>\n",
       "      <td>0.146</td>\n",
       "      <td>27.0</td>\n",
       "      <td>90.0</td>\n",
       "      <td>0.99840</td>\n",
       "      <td>3.16</td>\n",
       "      <td>0.70</td>\n",
       "      <td>9.4</td>\n",
       "    </tr>\n",
       "    <tr>\n",
       "      <th>476</th>\n",
       "      <td>9.2</td>\n",
       "      <td>0.59</td>\n",
       "      <td>0.24</td>\n",
       "      <td>3.3</td>\n",
       "      <td>0.101</td>\n",
       "      <td>20.0</td>\n",
       "      <td>47.0</td>\n",
       "      <td>0.99880</td>\n",
       "      <td>3.26</td>\n",
       "      <td>0.67</td>\n",
       "      <td>9.6</td>\n",
       "    </tr>\n",
       "    <tr>\n",
       "      <th>477</th>\n",
       "      <td>8.5</td>\n",
       "      <td>0.32</td>\n",
       "      <td>0.42</td>\n",
       "      <td>2.3</td>\n",
       "      <td>0.075</td>\n",
       "      <td>12.0</td>\n",
       "      <td>19.0</td>\n",
       "      <td>0.99434</td>\n",
       "      <td>3.14</td>\n",
       "      <td>0.71</td>\n",
       "      <td>11.8</td>\n",
       "    </tr>\n",
       "    <tr>\n",
       "      <th>478</th>\n",
       "      <td>9.9</td>\n",
       "      <td>0.74</td>\n",
       "      <td>0.19</td>\n",
       "      <td>5.8</td>\n",
       "      <td>0.111</td>\n",
       "      <td>33.0</td>\n",
       "      <td>76.0</td>\n",
       "      <td>0.99878</td>\n",
       "      <td>3.14</td>\n",
       "      <td>0.55</td>\n",
       "      <td>9.4</td>\n",
       "    </tr>\n",
       "    <tr>\n",
       "      <th>479</th>\n",
       "      <td>6.9</td>\n",
       "      <td>0.39</td>\n",
       "      <td>0.24</td>\n",
       "      <td>2.1</td>\n",
       "      <td>0.102</td>\n",
       "      <td>4.0</td>\n",
       "      <td>7.0</td>\n",
       "      <td>0.99462</td>\n",
       "      <td>3.44</td>\n",
       "      <td>0.58</td>\n",
       "      <td>11.4</td>\n",
       "    </tr>\n",
       "  </tbody>\n",
       "</table>\n",
       "<p>480 rows × 11 columns</p>\n",
       "</div>"
      ],
      "text/plain": [
       "     fixed acidity  volatile acidity  citric acid  residual sugar  chlorides  \\\n",
       "0              6.8              0.47         0.08             2.2      0.064   \n",
       "1             10.8              0.40         0.41             2.2      0.084   \n",
       "2              7.1              0.27         0.60             2.1      0.074   \n",
       "3              7.8              0.59         0.18             2.3      0.076   \n",
       "4              7.2              0.62         0.01             2.3      0.065   \n",
       "..             ...               ...          ...             ...        ...   \n",
       "475            9.0              0.62         0.04             1.9      0.146   \n",
       "476            9.2              0.59         0.24             3.3      0.101   \n",
       "477            8.5              0.32         0.42             2.3      0.075   \n",
       "478            9.9              0.74         0.19             5.8      0.111   \n",
       "479            6.9              0.39         0.24             2.1      0.102   \n",
       "\n",
       "     free sulfur dioxide  total sulfur dioxide  density    pH  sulphates  \\\n",
       "0                   18.0                  38.0  0.99553  3.30       0.65   \n",
       "1                    7.0                  17.0  0.99840  3.08       0.67   \n",
       "2                   17.0                  25.0  0.99814  3.38       0.72   \n",
       "3                   17.0                  54.0  0.99750  3.43       0.59   \n",
       "4                    8.0                  46.0  0.99332  3.32       0.51   \n",
       "..                   ...                   ...      ...   ...        ...   \n",
       "475                 27.0                  90.0  0.99840  3.16       0.70   \n",
       "476                 20.0                  47.0  0.99880  3.26       0.67   \n",
       "477                 12.0                  19.0  0.99434  3.14       0.71   \n",
       "478                 33.0                  76.0  0.99878  3.14       0.55   \n",
       "479                  4.0                   7.0  0.99462  3.44       0.58   \n",
       "\n",
       "     alcohol  \n",
       "0        9.6  \n",
       "1        9.3  \n",
       "2       10.6  \n",
       "3       10.0  \n",
       "4       11.8  \n",
       "..       ...  \n",
       "475      9.4  \n",
       "476      9.6  \n",
       "477     11.8  \n",
       "478      9.4  \n",
       "479     11.4  \n",
       "\n",
       "[480 rows x 11 columns]"
      ]
     },
     "execution_count": 145,
     "metadata": {},
     "output_type": "execute_result"
    }
   ],
   "source": [
    "pd.read_csv('test_data_winedf.csv')"
   ]
  },
  {
   "cell_type": "code",
   "execution_count": null,
   "id": "27d3087a",
   "metadata": {},
   "outputs": [],
   "source": []
  },
  {
   "cell_type": "code",
   "execution_count": null,
   "id": "6b15971f",
   "metadata": {},
   "outputs": [],
   "source": []
  },
  {
   "cell_type": "code",
   "execution_count": null,
   "id": "2f22b17b",
   "metadata": {},
   "outputs": [],
   "source": []
  },
  {
   "cell_type": "code",
   "execution_count": null,
   "id": "a12200b9",
   "metadata": {},
   "outputs": [],
   "source": []
  },
  {
   "cell_type": "code",
   "execution_count": null,
   "id": "12393c53",
   "metadata": {},
   "outputs": [],
   "source": []
  },
  {
   "cell_type": "code",
   "execution_count": null,
   "id": "32e2cfa6",
   "metadata": {},
   "outputs": [],
   "source": []
  },
  {
   "cell_type": "code",
   "execution_count": null,
   "id": "008e2371",
   "metadata": {},
   "outputs": [],
   "source": []
  },
  {
   "cell_type": "code",
   "execution_count": null,
   "id": "d3b71db2",
   "metadata": {},
   "outputs": [],
   "source": []
  },
  {
   "cell_type": "code",
   "execution_count": null,
   "id": "c5388003",
   "metadata": {},
   "outputs": [],
   "source": []
  },
  {
   "cell_type": "code",
   "execution_count": null,
   "id": "dcdfe26a",
   "metadata": {},
   "outputs": [],
   "source": []
  },
  {
   "cell_type": "code",
   "execution_count": null,
   "id": "9498af99",
   "metadata": {},
   "outputs": [],
   "source": []
  },
  {
   "cell_type": "code",
   "execution_count": null,
   "id": "af6fe643",
   "metadata": {},
   "outputs": [],
   "source": []
  },
  {
   "cell_type": "code",
   "execution_count": null,
   "id": "3801caa6",
   "metadata": {},
   "outputs": [],
   "source": []
  },
  {
   "cell_type": "code",
   "execution_count": null,
   "id": "8fd9d2c7",
   "metadata": {},
   "outputs": [],
   "source": []
  },
  {
   "cell_type": "code",
   "execution_count": null,
   "id": "a997ef75",
   "metadata": {},
   "outputs": [],
   "source": []
  },
  {
   "cell_type": "code",
   "execution_count": null,
   "id": "224b929d",
   "metadata": {},
   "outputs": [],
   "source": []
  },
  {
   "cell_type": "code",
   "execution_count": null,
   "id": "8d58d738",
   "metadata": {},
   "outputs": [],
   "source": []
  },
  {
   "cell_type": "code",
   "execution_count": null,
   "id": "0fd0c1d7",
   "metadata": {},
   "outputs": [],
   "source": []
  },
  {
   "cell_type": "code",
   "execution_count": null,
   "id": "de0090a6",
   "metadata": {},
   "outputs": [],
   "source": []
  },
  {
   "cell_type": "code",
   "execution_count": null,
   "id": "d9534a7a",
   "metadata": {},
   "outputs": [],
   "source": []
  },
  {
   "cell_type": "code",
   "execution_count": null,
   "id": "c21918ad",
   "metadata": {},
   "outputs": [],
   "source": []
  },
  {
   "cell_type": "code",
   "execution_count": null,
   "id": "e1d0724e",
   "metadata": {},
   "outputs": [],
   "source": []
  },
  {
   "cell_type": "code",
   "execution_count": null,
   "id": "889fe9ee",
   "metadata": {},
   "outputs": [],
   "source": []
  },
  {
   "cell_type": "code",
   "execution_count": null,
   "id": "64a2d879",
   "metadata": {},
   "outputs": [],
   "source": []
  },
  {
   "cell_type": "code",
   "execution_count": null,
   "id": "fb04366c",
   "metadata": {},
   "outputs": [],
   "source": []
  },
  {
   "cell_type": "code",
   "execution_count": null,
   "id": "d4bb034a",
   "metadata": {},
   "outputs": [],
   "source": []
  },
  {
   "cell_type": "code",
   "execution_count": null,
   "id": "2e2cb829",
   "metadata": {},
   "outputs": [],
   "source": []
  },
  {
   "cell_type": "code",
   "execution_count": null,
   "id": "13aeaa09",
   "metadata": {},
   "outputs": [],
   "source": []
  },
  {
   "cell_type": "code",
   "execution_count": null,
   "id": "3e298d97",
   "metadata": {},
   "outputs": [],
   "source": []
  },
  {
   "cell_type": "code",
   "execution_count": null,
   "id": "58231e05",
   "metadata": {},
   "outputs": [],
   "source": []
  },
  {
   "cell_type": "code",
   "execution_count": null,
   "id": "e43b0fcd",
   "metadata": {},
   "outputs": [],
   "source": []
  },
  {
   "cell_type": "code",
   "execution_count": null,
   "id": "23e3b10c",
   "metadata": {},
   "outputs": [],
   "source": []
  },
  {
   "cell_type": "code",
   "execution_count": null,
   "id": "99e38841",
   "metadata": {},
   "outputs": [],
   "source": []
  },
  {
   "cell_type": "code",
   "execution_count": null,
   "id": "3350df71",
   "metadata": {},
   "outputs": [],
   "source": []
  },
  {
   "cell_type": "code",
   "execution_count": null,
   "id": "a3ab6db3",
   "metadata": {},
   "outputs": [],
   "source": []
  },
  {
   "cell_type": "code",
   "execution_count": null,
   "id": "3b1d2b5a",
   "metadata": {},
   "outputs": [],
   "source": []
  },
  {
   "cell_type": "code",
   "execution_count": null,
   "id": "666296da",
   "metadata": {},
   "outputs": [],
   "source": []
  },
  {
   "cell_type": "code",
   "execution_count": null,
   "id": "7c3684ed",
   "metadata": {},
   "outputs": [],
   "source": []
  },
  {
   "cell_type": "code",
   "execution_count": null,
   "id": "d5998e73",
   "metadata": {},
   "outputs": [],
   "source": []
  },
  {
   "cell_type": "code",
   "execution_count": null,
   "id": "306e8ff5",
   "metadata": {},
   "outputs": [],
   "source": []
  },
  {
   "cell_type": "code",
   "execution_count": null,
   "id": "c0c9a333",
   "metadata": {},
   "outputs": [],
   "source": []
  },
  {
   "cell_type": "code",
   "execution_count": null,
   "id": "96233a1f",
   "metadata": {},
   "outputs": [],
   "source": []
  },
  {
   "cell_type": "code",
   "execution_count": null,
   "id": "afd45e87",
   "metadata": {},
   "outputs": [],
   "source": []
  },
  {
   "cell_type": "code",
   "execution_count": null,
   "id": "d0586381",
   "metadata": {},
   "outputs": [],
   "source": []
  },
  {
   "cell_type": "code",
   "execution_count": null,
   "id": "7a02d0a5",
   "metadata": {},
   "outputs": [],
   "source": []
  },
  {
   "cell_type": "code",
   "execution_count": null,
   "id": "e327c304",
   "metadata": {},
   "outputs": [],
   "source": []
  },
  {
   "cell_type": "code",
   "execution_count": null,
   "id": "493397d6",
   "metadata": {},
   "outputs": [],
   "source": []
  },
  {
   "cell_type": "code",
   "execution_count": null,
   "id": "47923412",
   "metadata": {},
   "outputs": [],
   "source": []
  },
  {
   "cell_type": "code",
   "execution_count": null,
   "id": "138ac83e",
   "metadata": {},
   "outputs": [],
   "source": []
  },
  {
   "cell_type": "code",
   "execution_count": null,
   "id": "f5d5ffd2",
   "metadata": {},
   "outputs": [],
   "source": []
  },
  {
   "cell_type": "code",
   "execution_count": null,
   "id": "3080dcd3",
   "metadata": {},
   "outputs": [],
   "source": []
  },
  {
   "cell_type": "code",
   "execution_count": null,
   "id": "293dcae0",
   "metadata": {},
   "outputs": [],
   "source": []
  },
  {
   "cell_type": "code",
   "execution_count": null,
   "id": "791540b4",
   "metadata": {},
   "outputs": [],
   "source": []
  },
  {
   "cell_type": "code",
   "execution_count": null,
   "id": "1d61f474",
   "metadata": {},
   "outputs": [],
   "source": []
  },
  {
   "cell_type": "code",
   "execution_count": null,
   "id": "08545ae5",
   "metadata": {},
   "outputs": [],
   "source": []
  },
  {
   "cell_type": "code",
   "execution_count": null,
   "id": "981069bc",
   "metadata": {},
   "outputs": [],
   "source": []
  },
  {
   "cell_type": "code",
   "execution_count": null,
   "id": "4b035373",
   "metadata": {},
   "outputs": [],
   "source": []
  },
  {
   "cell_type": "code",
   "execution_count": null,
   "id": "f39b9b9d",
   "metadata": {},
   "outputs": [],
   "source": []
  },
  {
   "cell_type": "code",
   "execution_count": null,
   "id": "809b8d5f",
   "metadata": {},
   "outputs": [],
   "source": []
  },
  {
   "cell_type": "code",
   "execution_count": null,
   "id": "aecc8560",
   "metadata": {},
   "outputs": [],
   "source": []
  },
  {
   "cell_type": "code",
   "execution_count": null,
   "id": "2f8f585c",
   "metadata": {},
   "outputs": [],
   "source": []
  },
  {
   "cell_type": "code",
   "execution_count": null,
   "id": "f67d612b",
   "metadata": {},
   "outputs": [],
   "source": []
  },
  {
   "cell_type": "code",
   "execution_count": null,
   "id": "55729055",
   "metadata": {},
   "outputs": [],
   "source": []
  },
  {
   "cell_type": "code",
   "execution_count": null,
   "id": "5012d9c9",
   "metadata": {},
   "outputs": [],
   "source": []
  },
  {
   "cell_type": "code",
   "execution_count": null,
   "id": "ae8c4baa",
   "metadata": {},
   "outputs": [],
   "source": []
  },
  {
   "cell_type": "code",
   "execution_count": null,
   "id": "e481809b",
   "metadata": {},
   "outputs": [],
   "source": []
  },
  {
   "cell_type": "code",
   "execution_count": null,
   "id": "f76fd7aa",
   "metadata": {},
   "outputs": [],
   "source": []
  },
  {
   "cell_type": "code",
   "execution_count": null,
   "id": "f0465aab",
   "metadata": {},
   "outputs": [],
   "source": []
  },
  {
   "cell_type": "code",
   "execution_count": null,
   "id": "9e3c8bc5",
   "metadata": {},
   "outputs": [],
   "source": []
  },
  {
   "cell_type": "code",
   "execution_count": null,
   "id": "f93c6916",
   "metadata": {},
   "outputs": [],
   "source": []
  },
  {
   "cell_type": "code",
   "execution_count": null,
   "id": "3540f201",
   "metadata": {},
   "outputs": [],
   "source": []
  },
  {
   "cell_type": "code",
   "execution_count": null,
   "id": "510b39fa",
   "metadata": {},
   "outputs": [],
   "source": []
  },
  {
   "cell_type": "code",
   "execution_count": null,
   "id": "0fcc0b5e",
   "metadata": {},
   "outputs": [],
   "source": []
  },
  {
   "cell_type": "code",
   "execution_count": null,
   "id": "6c68cde5",
   "metadata": {},
   "outputs": [],
   "source": []
  },
  {
   "cell_type": "code",
   "execution_count": null,
   "id": "69b3aa16",
   "metadata": {},
   "outputs": [],
   "source": []
  },
  {
   "cell_type": "code",
   "execution_count": null,
   "id": "cc9764dd",
   "metadata": {},
   "outputs": [],
   "source": []
  },
  {
   "cell_type": "code",
   "execution_count": null,
   "id": "086f4845",
   "metadata": {},
   "outputs": [],
   "source": []
  },
  {
   "cell_type": "code",
   "execution_count": null,
   "id": "6e4d666d",
   "metadata": {},
   "outputs": [],
   "source": []
  },
  {
   "cell_type": "code",
   "execution_count": null,
   "id": "e1862299",
   "metadata": {},
   "outputs": [],
   "source": []
  },
  {
   "cell_type": "code",
   "execution_count": null,
   "id": "9bbf880c",
   "metadata": {},
   "outputs": [],
   "source": []
  },
  {
   "cell_type": "code",
   "execution_count": null,
   "id": "3cf6ed05",
   "metadata": {},
   "outputs": [],
   "source": []
  },
  {
   "cell_type": "code",
   "execution_count": null,
   "id": "5ac33ffd",
   "metadata": {},
   "outputs": [],
   "source": []
  },
  {
   "cell_type": "code",
   "execution_count": null,
   "id": "96e71b1f",
   "metadata": {},
   "outputs": [],
   "source": []
  },
  {
   "cell_type": "code",
   "execution_count": null,
   "id": "57310bf4",
   "metadata": {},
   "outputs": [],
   "source": []
  },
  {
   "cell_type": "code",
   "execution_count": null,
   "id": "d5a3118e",
   "metadata": {},
   "outputs": [],
   "source": []
  },
  {
   "cell_type": "code",
   "execution_count": null,
   "id": "0dfbc666",
   "metadata": {},
   "outputs": [],
   "source": []
  },
  {
   "cell_type": "code",
   "execution_count": null,
   "id": "7d81dc9d",
   "metadata": {},
   "outputs": [],
   "source": []
  },
  {
   "cell_type": "code",
   "execution_count": null,
   "id": "035fd356",
   "metadata": {},
   "outputs": [],
   "source": []
  },
  {
   "cell_type": "code",
   "execution_count": null,
   "id": "65cac5ab",
   "metadata": {},
   "outputs": [],
   "source": []
  },
  {
   "cell_type": "code",
   "execution_count": null,
   "id": "4e718071",
   "metadata": {},
   "outputs": [],
   "source": []
  },
  {
   "cell_type": "code",
   "execution_count": null,
   "id": "8ffcfe82",
   "metadata": {},
   "outputs": [],
   "source": []
  },
  {
   "cell_type": "code",
   "execution_count": null,
   "id": "59561340",
   "metadata": {},
   "outputs": [],
   "source": []
  },
  {
   "cell_type": "code",
   "execution_count": null,
   "id": "e6a8acc7",
   "metadata": {},
   "outputs": [],
   "source": []
  },
  {
   "cell_type": "code",
   "execution_count": null,
   "id": "b483d9b9",
   "metadata": {},
   "outputs": [],
   "source": []
  },
  {
   "cell_type": "code",
   "execution_count": null,
   "id": "e268bc70",
   "metadata": {},
   "outputs": [],
   "source": []
  },
  {
   "cell_type": "code",
   "execution_count": null,
   "id": "733a8af1",
   "metadata": {},
   "outputs": [],
   "source": []
  },
  {
   "cell_type": "code",
   "execution_count": null,
   "id": "fea3201e",
   "metadata": {},
   "outputs": [],
   "source": []
  },
  {
   "cell_type": "code",
   "execution_count": null,
   "id": "c4e0c5f3",
   "metadata": {},
   "outputs": [],
   "source": []
  },
  {
   "cell_type": "code",
   "execution_count": null,
   "id": "c12e5d63",
   "metadata": {},
   "outputs": [],
   "source": []
  },
  {
   "cell_type": "code",
   "execution_count": null,
   "id": "215bb0fb",
   "metadata": {},
   "outputs": [],
   "source": []
  },
  {
   "cell_type": "code",
   "execution_count": null,
   "id": "392bdd59",
   "metadata": {},
   "outputs": [],
   "source": []
  },
  {
   "cell_type": "code",
   "execution_count": null,
   "id": "51dfd2b8",
   "metadata": {},
   "outputs": [],
   "source": []
  },
  {
   "cell_type": "code",
   "execution_count": null,
   "id": "86e0b703",
   "metadata": {},
   "outputs": [],
   "source": []
  },
  {
   "cell_type": "code",
   "execution_count": null,
   "id": "bf9fb2da",
   "metadata": {},
   "outputs": [],
   "source": []
  },
  {
   "cell_type": "code",
   "execution_count": null,
   "id": "f720ed98",
   "metadata": {},
   "outputs": [],
   "source": []
  },
  {
   "cell_type": "code",
   "execution_count": null,
   "id": "3aae520d",
   "metadata": {},
   "outputs": [],
   "source": []
  },
  {
   "cell_type": "code",
   "execution_count": null,
   "id": "af0e6d00",
   "metadata": {},
   "outputs": [],
   "source": []
  },
  {
   "cell_type": "code",
   "execution_count": null,
   "id": "c271417a",
   "metadata": {},
   "outputs": [],
   "source": []
  },
  {
   "cell_type": "code",
   "execution_count": null,
   "id": "f0579389",
   "metadata": {},
   "outputs": [],
   "source": []
  },
  {
   "cell_type": "code",
   "execution_count": null,
   "id": "b86b93e2",
   "metadata": {},
   "outputs": [],
   "source": []
  },
  {
   "cell_type": "code",
   "execution_count": null,
   "id": "4cef91f4",
   "metadata": {},
   "outputs": [],
   "source": []
  },
  {
   "cell_type": "code",
   "execution_count": null,
   "id": "bc3770ee",
   "metadata": {},
   "outputs": [],
   "source": []
  },
  {
   "cell_type": "code",
   "execution_count": null,
   "id": "3879189d",
   "metadata": {},
   "outputs": [],
   "source": []
  },
  {
   "cell_type": "code",
   "execution_count": null,
   "id": "21952928",
   "metadata": {},
   "outputs": [],
   "source": []
  },
  {
   "cell_type": "code",
   "execution_count": null,
   "id": "26a0b0e6",
   "metadata": {},
   "outputs": [],
   "source": []
  },
  {
   "cell_type": "code",
   "execution_count": null,
   "id": "a8ca2f07",
   "metadata": {},
   "outputs": [],
   "source": []
  },
  {
   "cell_type": "code",
   "execution_count": null,
   "id": "0b229c3a",
   "metadata": {},
   "outputs": [],
   "source": []
  },
  {
   "cell_type": "code",
   "execution_count": null,
   "id": "1d3abe72",
   "metadata": {},
   "outputs": [],
   "source": []
  },
  {
   "cell_type": "code",
   "execution_count": null,
   "id": "e9b48478",
   "metadata": {},
   "outputs": [],
   "source": []
  },
  {
   "cell_type": "code",
   "execution_count": null,
   "id": "2d08af4b",
   "metadata": {},
   "outputs": [],
   "source": []
  },
  {
   "cell_type": "code",
   "execution_count": null,
   "id": "075dcff2",
   "metadata": {},
   "outputs": [],
   "source": []
  },
  {
   "cell_type": "code",
   "execution_count": null,
   "id": "488fecc9",
   "metadata": {},
   "outputs": [],
   "source": []
  },
  {
   "cell_type": "code",
   "execution_count": null,
   "id": "6f802c9e",
   "metadata": {},
   "outputs": [],
   "source": []
  },
  {
   "cell_type": "code",
   "execution_count": null,
   "id": "ad31e815",
   "metadata": {},
   "outputs": [],
   "source": []
  },
  {
   "cell_type": "code",
   "execution_count": null,
   "id": "7c394495",
   "metadata": {},
   "outputs": [],
   "source": []
  },
  {
   "cell_type": "code",
   "execution_count": null,
   "id": "bcb880a1",
   "metadata": {},
   "outputs": [],
   "source": []
  },
  {
   "cell_type": "code",
   "execution_count": null,
   "id": "bd3e1fdb",
   "metadata": {},
   "outputs": [],
   "source": []
  },
  {
   "cell_type": "code",
   "execution_count": null,
   "id": "abd93ce5",
   "metadata": {},
   "outputs": [],
   "source": []
  },
  {
   "cell_type": "code",
   "execution_count": null,
   "id": "5756f00f",
   "metadata": {},
   "outputs": [],
   "source": []
  },
  {
   "cell_type": "code",
   "execution_count": null,
   "id": "5f0c106d",
   "metadata": {},
   "outputs": [],
   "source": []
  },
  {
   "cell_type": "code",
   "execution_count": null,
   "id": "627410e7",
   "metadata": {},
   "outputs": [],
   "source": []
  },
  {
   "cell_type": "code",
   "execution_count": null,
   "id": "d3d01aa9",
   "metadata": {},
   "outputs": [],
   "source": []
  },
  {
   "cell_type": "code",
   "execution_count": null,
   "id": "850641d8",
   "metadata": {},
   "outputs": [],
   "source": []
  },
  {
   "cell_type": "code",
   "execution_count": null,
   "id": "5a016e73",
   "metadata": {},
   "outputs": [],
   "source": []
  },
  {
   "cell_type": "code",
   "execution_count": null,
   "id": "dd560bb1",
   "metadata": {},
   "outputs": [],
   "source": []
  },
  {
   "cell_type": "code",
   "execution_count": null,
   "id": "ad096c2d",
   "metadata": {},
   "outputs": [],
   "source": []
  },
  {
   "cell_type": "code",
   "execution_count": null,
   "id": "c4211889",
   "metadata": {},
   "outputs": [],
   "source": []
  },
  {
   "cell_type": "code",
   "execution_count": null,
   "id": "25017892",
   "metadata": {},
   "outputs": [],
   "source": []
  },
  {
   "cell_type": "code",
   "execution_count": null,
   "id": "39510193",
   "metadata": {},
   "outputs": [],
   "source": []
  },
  {
   "cell_type": "code",
   "execution_count": null,
   "id": "6968ba3e",
   "metadata": {},
   "outputs": [],
   "source": []
  },
  {
   "cell_type": "code",
   "execution_count": null,
   "id": "d6b4df91",
   "metadata": {},
   "outputs": [],
   "source": []
  },
  {
   "cell_type": "code",
   "execution_count": null,
   "id": "92fbabf3",
   "metadata": {},
   "outputs": [],
   "source": []
  },
  {
   "cell_type": "code",
   "execution_count": null,
   "id": "19adfa7c",
   "metadata": {},
   "outputs": [],
   "source": []
  },
  {
   "cell_type": "code",
   "execution_count": null,
   "id": "db222be5",
   "metadata": {},
   "outputs": [],
   "source": []
  },
  {
   "cell_type": "code",
   "execution_count": null,
   "id": "e27cc08e",
   "metadata": {},
   "outputs": [],
   "source": []
  },
  {
   "cell_type": "code",
   "execution_count": null,
   "id": "c742c94e",
   "metadata": {},
   "outputs": [],
   "source": []
  },
  {
   "cell_type": "code",
   "execution_count": null,
   "id": "4b65b623",
   "metadata": {},
   "outputs": [],
   "source": []
  },
  {
   "cell_type": "code",
   "execution_count": null,
   "id": "29f9b36b",
   "metadata": {},
   "outputs": [],
   "source": []
  },
  {
   "cell_type": "code",
   "execution_count": null,
   "id": "76230e83",
   "metadata": {},
   "outputs": [],
   "source": []
  },
  {
   "cell_type": "code",
   "execution_count": null,
   "id": "fb09041b",
   "metadata": {},
   "outputs": [],
   "source": []
  },
  {
   "cell_type": "code",
   "execution_count": null,
   "id": "fc181abd",
   "metadata": {},
   "outputs": [],
   "source": []
  }
 ],
 "metadata": {
  "kernelspec": {
   "display_name": "Python 3 (ipykernel)",
   "language": "python",
   "name": "python3"
  },
  "language_info": {
   "codemirror_mode": {
    "name": "ipython",
    "version": 3
   },
   "file_extension": ".py",
   "mimetype": "text/x-python",
   "name": "python",
   "nbconvert_exporter": "python",
   "pygments_lexer": "ipython3",
   "version": "3.11.5"
  }
 },
 "nbformat": 4,
 "nbformat_minor": 5
}
